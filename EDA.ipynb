{
 "cells": [
  {
   "cell_type": "markdown",
   "id": "33d17bd9",
   "metadata": {},
   "source": [
    "Pneumonia is a common infection that causes inflammation and possible fluid accumulation in the air sacs of the lungs.\n",
    "\n",
    "\n",
    "[In China, pneumonia is one of the leading causes of death for children under 5 years old](https://journals.lww.com/md-journal/Fulltext/2018/11160/The_drug_use_to_treat_community_acquired_pneumonia.42.aspx#:~:text=More%20than%202%20million%200,the%20age%20of%205%20years.)\n",
    "\n",
    "\n",
    "Causes of pneumonia include bactria, virus and fungal sources. \n",
    "\n",
    "[Pediatric pneumonia is generally diagnosed based on the time of the year and the results of a physical exam, paying attention the child's breathing and listening to the lungs](https://www.nationwidechildrens.org/conditions/pneumonia). Further testing can include blood tests and chest X-rays. \n",
    "\n",
    "\n",
    "Even with modern medicine, pneumonia can be misdiagnosed. A fast and accurate diagnosis allow doctors to treat the infection with the appropirate care. \n",
    "\n",
    "\n",
    "One application of machine learning in medicine is digital diagnosis. \n",
    "\n",
    "\n",
    "We have been tasked with developing an identification model to determine if a chest X-ray indicates the presence of pneumonia. False negative results are to be minimized compared to false positives.\n"
   ]
  },
  {
   "cell_type": "markdown",
   "id": "cfe3dd32",
   "metadata": {},
   "source": [
    "The data is sourced from [Kaggle](https://www.kaggle.com/datasets/paultimothymooney/chest-xray-pneumonia). It is already split into three folders for training, validation and testing. All the chest radiographs were screened for quality and diagnostic labeling performed by physicians. The images were collected during routine clinicial care of pediatric patients between one and five years old from Guangzhou Women and Children's Medical Center in Guangzhou, China."
   ]
  },
  {
   "cell_type": "code",
   "execution_count": 42,
   "id": "50899d48",
   "metadata": {},
   "outputs": [],
   "source": [
    "from os import listdir\n",
    "from os.path import isfile, join\n",
    "\n",
    "import pandas as pd\n",
    "import numpy as np\n",
    "from PIL import Image\n",
    "\n",
    "import matplotlib.pyplot as plt\n",
    "%matplotlib inline"
   ]
  },
  {
   "cell_type": "markdown",
   "id": "c34966c2",
   "metadata": {},
   "source": [
    "The first thing we wanted to do was shrink down the size of our images for processing speed. We have a backup copy of the original sized images and the modeling will work if we decide to try and go back to the full size images. After running this code, we have commented out the image rewriting so we don't perform this operation every time."
   ]
  },
  {
   "cell_type": "code",
   "execution_count": 43,
   "id": "1471cfcc",
   "metadata": {},
   "outputs": [],
   "source": [
    "def resize_with_ratio(image, min_size=256):\n",
    "    \"\"\"\n",
    "    This function will take in an image and resize it, maintaining aspect ratio.\n",
    "    The default minimum length for a side is 256 pixels.\n",
    "    The function will output a resized image with the smaller side sized to 256 pixels\n",
    "    and the other side resized proportionately.\n",
    "    \n",
    "    \"\"\"\n",
    "    # get width and height from passed image   \n",
    "    width, height = image.size\n",
    "    \n",
    "    # based on longer side changing to 256 pixels, calculate the ratio and length of\n",
    "    # the shorter side\n",
    "    if width>height:\n",
    "        ratio_wh = width / height\n",
    "        new_width = int(ratio_wh * min_size)\n",
    "        new_height = min_size\n",
    "    else:\n",
    "        ratio_hw = height / width\n",
    "        new_width = min_size\n",
    "        new_height = int(ratio_hw * min_size)\n",
    "\n",
    "    return image.resize((new_width, new_height))"
   ]
  },
  {
   "cell_type": "code",
   "execution_count": 41,
   "id": "ca11135f",
   "metadata": {},
   "outputs": [],
   "source": [
    "folder_names = ['train', 'test', 'val']\n",
    "img_names = ['NORMAL', 'PNEUMONIA']\n",
    "\n",
    "\n",
    "\n",
    "# loop through the different combinations of folder name prefixes\n",
    "for folder in folder_names:\n",
    "    for img_type in img_names:\n",
    "        \n",
    "        # set up the path to each folder of images\n",
    "        path = f'./chest_xray/{folder}/{img_type}'\n",
    "        \n",
    "        # create a list of the filenames in that directory\n",
    "        filelist = list(listdir(path))\n",
    "        \n",
    "        \n",
    "# This loop was only needed one time to resize the image files. It is left in\n",
    "# in case of data loss and we need to resize again\n",
    "        # loop through each file, resizing using the helper function above\n",
    "        # saves the new file overtop of the old file.\n",
    "#         for file_name in filelist:\n",
    "#             im = Image.open(path + r'/' + file_name)\n",
    "#             im_resized = resize_with_ratio(im)\n",
    "#             filepath = path + r'/' + file_name\n",
    "#             im_resized.save(filepath)\n",
    "\n"
   ]
  },
  {
   "cell_type": "code",
   "execution_count": 47,
   "id": "c67a9e89",
   "metadata": {},
   "outputs": [
    {
     "data": {
      "text/plain": [
       "1341"
      ]
     },
     "execution_count": 47,
     "metadata": {},
     "output_type": "execute_result"
    }
   ],
   "source": [
    "path = f'./chest_xray/train/NORMAL'\n",
    "filelist = list(listdir(path))\n",
    "len(filelist)"
   ]
  },
  {
   "cell_type": "code",
   "execution_count": 51,
   "id": "26247afc",
   "metadata": {},
   "outputs": [],
   "source": [
    "train_normal = np.empty(0)"
   ]
  },
  {
   "cell_type": "code",
   "execution_count": 52,
   "id": "414dd592",
   "metadata": {},
   "outputs": [
    {
     "data": {
      "text/plain": [
       "array([], dtype=float64)"
      ]
     },
     "execution_count": 52,
     "metadata": {},
     "output_type": "execute_result"
    }
   ],
   "source": [
    "train_normal"
   ]
  },
  {
   "cell_type": "code",
   "execution_count": 55,
   "id": "b9d649fe",
   "metadata": {},
   "outputs": [],
   "source": [
    "for file_name in filelist:\n",
    "    image = Image.open(path + r'/' + file_name)\n",
    "    numpydata = np.asarray(image)\n",
    "    np.append(train_normal, numpydata)"
   ]
  },
  {
   "cell_type": "code",
   "execution_count": 56,
   "id": "32d0287f",
   "metadata": {},
   "outputs": [
    {
     "data": {
      "text/plain": [
       "array([], dtype=float64)"
      ]
     },
     "execution_count": 56,
     "metadata": {},
     "output_type": "execute_result"
    }
   ],
   "source": [
    "train_normal"
   ]
  },
  {
   "cell_type": "code",
   "execution_count": null,
   "id": "d6814be2",
   "metadata": {},
   "outputs": [],
   "source": []
  }
 ],
 "metadata": {
  "kernelspec": {
   "display_name": "Python 3 (ipykernel)",
   "language": "python",
   "name": "python3"
  },
  "language_info": {
   "codemirror_mode": {
    "name": "ipython",
    "version": 3
   },
   "file_extension": ".py",
   "mimetype": "text/x-python",
   "name": "python",
   "nbconvert_exporter": "python",
   "pygments_lexer": "ipython3",
   "version": "3.9.7"
  }
 },
 "nbformat": 4,
 "nbformat_minor": 5
}
