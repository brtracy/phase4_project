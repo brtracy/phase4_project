{
 "cells": [
  {
   "cell_type": "markdown",
   "id": "d35725b1",
   "metadata": {},
   "source": [
    "**NOTE** Run all cells in section 2, then skip to section 5 for imports (all preprocessing is done)"
   ]
  },
  {
   "cell_type": "markdown",
   "id": "ce8bbabe",
   "metadata": {
    "heading_collapsed": true
   },
   "source": [
    "# Business Problem"
   ]
  },
  {
   "cell_type": "markdown",
   "id": "2fda2848",
   "metadata": {
    "hidden": true
   },
   "source": [
    "Pneumonia is a common infection that causes inflammation and possible fluid accumulation in the air sacs of the lungs.\n",
    "\n",
    "\n",
    "[In China, pneumonia is one of the leading causes of death for children under 5 years old](https://journals.lww.com/md-journal/Fulltext/2018/11160/The_drug_use_to_treat_community_acquired_pneumonia.42.aspx#:~:text=More%20than%202%20million%200,the%20age%20of%205%20years.)\n",
    "\n",
    "\n",
    "Causes of pneumonia include bactria, virus and fungal sources. \n",
    "\n",
    "[Pediatric pneumonia is generally diagnosed based on the time of the year and the results of a physical exam, paying attention the child's breathing and listening to the lungs](https://www.nationwidechildrens.org/conditions/pneumonia). Further testing can include blood tests and chest X-rays. \n",
    "\n",
    "\n",
    "Even with modern medicine, pneumonia can be misdiagnosed. A fast and accurate diagnosis allow doctors to treat the infection with the appropirate care. \n",
    "\n",
    "\n",
    "One application of machine learning in medicine is digital diagnosis. \n",
    "\n",
    "\n",
    "We have been tasked with developing an identification model to determine if a chest X-ray indicates the presence of pneumonia. False negative results are to be minimized compared to false positives.\n",
    "\n",
    "The data is sourced from [Kaggle](https://www.kaggle.com/datasets/paultimothymooney/chest-xray-pneumonia). It is already split into three folders for training, validation and testing. All the chest radiographs were screened for quality and diagnostic labeling performed by physicians. The images were collected during routine clinicial care of pediatric patients between one and five years old from Guangzhou Women and Children's Medical Center in Guangzhou, China."
   ]
  },
  {
   "cell_type": "markdown",
   "id": "42b27bf4",
   "metadata": {
    "heading_collapsed": true
   },
   "source": [
    "# Imports"
   ]
  },
  {
   "cell_type": "code",
   "execution_count": 1,
   "id": "66ee54ba",
   "metadata": {
    "ExecuteTime": {
     "end_time": "2022-03-23T21:26:22.194917Z",
     "start_time": "2022-03-23T21:26:17.155424Z"
    },
    "hidden": true,
    "run_control": {
     "marked": true
    }
   },
   "outputs": [],
   "source": [
    "import os\n",
    "from os import listdir\n",
    "from os.path import isfile, join\n",
    "import tempfile\n",
    "\n",
    "from PIL import Image\n",
    "import math\n",
    "\n",
    "import pandas as pd\n",
    "import numpy as np\n",
    "\n",
    "import seaborn as sns\n",
    "import matplotlib.pyplot as plt\n",
    "%matplotlib inline\n",
    "\n",
    "from sklearn.model_selection import cross_val_score, StratifiedKFold\n",
    "from sklearn.metrics import confusion_matrix, classification_report\n",
    "\n",
    "import tensorflow as tf\n",
    "from tensorflow import keras\n",
    "\n",
    "from keras.wrappers.scikit_learn import KerasClassifier\n",
    "from keras.models import Sequential\n",
    "from keras.layers import Dense, Dropout, Conv2D, MaxPooling2D, Flatten\n",
    "\n",
    "os.environ['KMP_DUPLICATE_LIB_OK']='True' #This prevents kernel shut down due to xgboost conflict"
   ]
  },
  {
   "cell_type": "markdown",
   "id": "509ce2ed",
   "metadata": {
    "hidden": true
   },
   "source": [
    "## Helper Functions"
   ]
  },
  {
   "cell_type": "markdown",
   "id": "30ed5af5",
   "metadata": {
    "hidden": true
   },
   "source": [
    "Helper functions:\n",
    "- get_ratio: return the ratio of an 2D image array width:height\n",
    "- resize_and_crop: returns a scaled and cropped image"
   ]
  },
  {
   "cell_type": "code",
   "execution_count": 2,
   "id": "6cba1f5a",
   "metadata": {
    "ExecuteTime": {
     "end_time": "2022-03-23T21:26:22.287095Z",
     "start_time": "2022-03-23T21:26:22.273662Z"
    },
    "hidden": true,
    "run_control": {
     "marked": true
    }
   },
   "outputs": [],
   "source": [
    "def get_ratio(array):\n",
    "    return array.shape[0]/array.shape[1]\n",
    "\n",
    "def resize_and_crop(image, new_size=256):\n",
    "    \"\"\"\n",
    "    This function will take in an image, resize and crop it to a square.\n",
    "    The default new length for a side is 256 pixels.\n",
    "    The function will output a new square, centered image.\n",
    "    \n",
    "    \"\"\"\n",
    "    # get width and height from passed image   \n",
    "    width, height = image.size\n",
    "    \n",
    "    # set up variables for new width and height\n",
    "    new_width = 0\n",
    "    new_height = 0\n",
    "    \n",
    "    # based on larger side changing to new_size, calculate the ratio and length of\n",
    "    # the shorter side\n",
    "    if width > height:\n",
    "        ratio_wh = width / height\n",
    "        new_width = int(ratio_wh * new_size)\n",
    "        new_height = new_size\n",
    "    else:\n",
    "        ratio_hw = height / width\n",
    "        new_width = new_size\n",
    "        new_height = int(ratio_hw * new_size)\n",
    "        \n",
    "    # save the scaled image\n",
    "    scaled_image = image.resize((new_width, new_height))\n",
    "    \n",
    "    # if the image is wider, crop in equally from the sides to preserve center of image\n",
    "    if new_width > new_height:\n",
    "        # we are only cropping in from left and right, so set top crop to 0 and bottom to new_size\n",
    "        top = 0\n",
    "        bottom = new_size\n",
    "        # set the left and right side crop values\n",
    "        left = int(math.ceil((new_width - new_size) / 2))\n",
    "        right = new_width - int(math.floor((new_width - new_size) / 2))\n",
    "        # save the cropped image\n",
    "        cropped_image = scaled_image.crop((left, top, right, bottom))\n",
    "    \n",
    "    # if the image is taller, crop equally from the top/bottom to preserve center of image\n",
    "    else:\n",
    "        # we are only cropping top and bottom, so set left crop to 0 and right crop to new_size\n",
    "        left = 0\n",
    "        right = new_size\n",
    "        # set the top and bottom crop values\n",
    "        top = int(math.ceil((new_height - new_size) / 2))\n",
    "        bottom = new_height - int(math.floor((new_height - new_size) / 2))\n",
    "        # save the cropped image\n",
    "        cropped_image = scaled_image.crop((left, top, right, bottom))\n",
    "    \n",
    "    return cropped_image"
   ]
  },
  {
   "cell_type": "markdown",
   "id": "eb8457c2",
   "metadata": {
    "heading_collapsed": true
   },
   "source": [
    "# EDA"
   ]
  },
  {
   "cell_type": "markdown",
   "id": "ab81db2f",
   "metadata": {
    "heading_collapsed": true,
    "hidden": true
   },
   "source": [
    "## Image ratios"
   ]
  },
  {
   "cell_type": "markdown",
   "id": "610fe9e4",
   "metadata": {
    "hidden": true
   },
   "source": [
    "For best results in modeling, we need to standardize and shrink the images. It was advised to scale images to 256x256. During initial investigation into the image dimensions, we saw that some of our images have a dimension below that value. To get a better picture of what our dataset contains, we will go through all the files contained in all folders of our chest_xray images. We set our minimum dimension to 256, but this can easily be updated. If an image contains a dimension lower than our minimum we will separate it out into one dataframe and all other images will be in another dataframe."
   ]
  },
  {
   "cell_type": "code",
   "execution_count": null,
   "id": "bfc60686",
   "metadata": {
    "hidden": true
   },
   "outputs": [],
   "source": [
    "folder_names = ['train', 'test', 'val']\n",
    "img_names = ['NORMAL', 'PNEUMONIA']\n",
    "\n",
    "min_size = 256\n",
    "\n",
    "all_images = []\n",
    "small_images = []\n",
    "\n",
    "# loop through the different combinations of folder name prefixes\n",
    "for folder in folder_names:\n",
    "    for img_type in img_names:\n",
    "        \n",
    "        # set up the path to each folder of images\n",
    "        path = f'./chest_xray/{folder}/{img_type}'\n",
    "        \n",
    "        # create a list of the filenames in that directory\n",
    "        filelist = list(listdir(path))\n",
    "        \n",
    "        # loop through each file in the folder\n",
    "        for file_name in filelist:\n",
    "            \n",
    "            # set the filepath for the file in question\n",
    "            filepath = path + r'/' + file_name\n",
    "            \n",
    "            # open the image\n",
    "            image = Image.open(filepath)\n",
    "            \n",
    "            # convert the few B/W images coded as RGB back to greyscale\n",
    "            if image.mode == 'RGB':\n",
    "                image = image.convert('L')\n",
    "            \n",
    "            # convert the image into an array\n",
    "            image_array = np.asarray(image)\n",
    "            \n",
    "            # get the ratio, height, and width of the image\n",
    "            ratio = get_ratio(image_array)\n",
    "            height, width = image_array.shape            \n",
    "            \n",
    "            # if either measurement is under our defined minimum size,\n",
    "            # append the data as a tuple to small_images. Otherwise, add\n",
    "            # it to the all_images list\n",
    "            if (width < min_size) or (height < min_size):\n",
    "                small_images.append((folder, img_type, file_name, ratio, width, height))\n",
    "            else:\n",
    "                all_images.append((folder, img_type, file_name, ratio, width, height))\n",
    "\n",
    "# set the column names\n",
    "column_names = ['folder', 'img_type', 'file_name', 'ratio', 'width', 'height']\n",
    "# convert both lists to dataframes\n",
    "small_images_df = pd.DataFrame(small_images, columns=column_names)\n",
    "all_images_df = pd.DataFrame(all_images, columns=column_names)"
   ]
  },
  {
   "cell_type": "code",
   "execution_count": null,
   "id": "e34a74ed",
   "metadata": {
    "hidden": true
   },
   "outputs": [],
   "source": [
    "small_images_df.describe()"
   ]
  },
  {
   "cell_type": "code",
   "execution_count": null,
   "id": "f1260c19",
   "metadata": {
    "hidden": true,
    "scrolled": false
   },
   "outputs": [],
   "source": [
    "small_images_df.ratio.plot(kind='hist');"
   ]
  },
  {
   "cell_type": "code",
   "execution_count": null,
   "id": "d3c89899",
   "metadata": {
    "hidden": true
   },
   "outputs": [],
   "source": [
    "print('Small image folder representation')\n",
    "display(small_images_df.folder.value_counts())\n",
    "print('Small image type representation')\n",
    "display(small_images_df.img_type.value_counts())"
   ]
  },
  {
   "cell_type": "markdown",
   "id": "2035ea10",
   "metadata": {
    "hidden": true
   },
   "source": [
    "We can see here that there are only 58 images out of our total 5856 which have a dimension less than our minimum. We will not consider those in constructing our image data arrays.\n",
    "__________________\n",
    "\n",
    "Let's consider the ratios of the all the rest of the images."
   ]
  },
  {
   "cell_type": "code",
   "execution_count": null,
   "id": "552aea9b",
   "metadata": {
    "hidden": true
   },
   "outputs": [],
   "source": [
    "all_images_df.describe()"
   ]
  },
  {
   "cell_type": "code",
   "execution_count": null,
   "id": "ddaa6035",
   "metadata": {
    "hidden": true,
    "scrolled": true
   },
   "outputs": [],
   "source": [
    "all_images_df.ratio.plot(kind='hist');"
   ]
  },
  {
   "cell_type": "markdown",
   "id": "5993e2e1",
   "metadata": {
    "hidden": true
   },
   "source": [
    "Most of our images have a ratio above 0.63, but there are some as low as 0.38. It's suspected that cropping the images that we have with low ratio (which indicates very wide images) may be problematic, so it may be something we have to return to and consider dropping some images with a ratio below a certain threshold. We can do some quick investigation into that."
   ]
  },
  {
   "cell_type": "markdown",
   "id": "3e2bfd22",
   "metadata": {
    "heading_collapsed": true,
    "hidden": true
   },
   "source": [
    "## Testing Cropping"
   ]
  },
  {
   "cell_type": "code",
   "execution_count": null,
   "id": "05a2a96f",
   "metadata": {
    "hidden": true
   },
   "outputs": [],
   "source": [
    "def compare_cropping(index_value, df=all_images_df):\n",
    "    \"\"\"\n",
    "    This helper function will take in the index value of an image in the default\n",
    "    dataframe: all_images_df. It will display the width, height, and ratio of the\n",
    "    original with the original image. It will then perform the cropping and display\n",
    "    the new imaged data along with the new cropped image for comparison.   \n",
    "    \"\"\"\n",
    "    # Get the folder and img_type value from the dataframe to contsruct the folder root\n",
    "    folder = df.iloc[index_value]['folder']\n",
    "    img_type = df.iloc[index_value]['img_type']\n",
    "    # constrcut the folder root for the file in question\n",
    "    root=f\"./chest_xray/{folder}/{img_type}/\"\n",
    "    # set the image path and open the image\n",
    "    image_path = root + df.iloc[index_value]['file_name']\n",
    "    image = Image.open(image_path)\n",
    "    # print the dimensions, ratio, and original image\n",
    "    print(f\"width: {image.width}\\theight: {image.height}\\tratio: {image.height/image.width}\")\n",
    "    display(image)\n",
    "    # crop the image\n",
    "    cropped_image = resize_and_crop(image)\n",
    "    # print the new image (will be 256x256 with ratio of 1.0)\n",
    "    display(cropped_image)"
   ]
  },
  {
   "cell_type": "markdown",
   "id": "7057a7ce",
   "metadata": {
    "hidden": true
   },
   "source": [
    "Let's look at an image with our 25th percentile value for ratio: 0.63"
   ]
  },
  {
   "cell_type": "code",
   "execution_count": null,
   "id": "58e3b5f3",
   "metadata": {
    "hidden": true
   },
   "outputs": [],
   "source": [
    "all_images_df[all_images_df.ratio == 0.63]"
   ]
  },
  {
   "cell_type": "code",
   "execution_count": null,
   "id": "6aba5bde",
   "metadata": {
    "hidden": true,
    "scrolled": false
   },
   "outputs": [],
   "source": [
    "compare_cropping(5317)"
   ]
  },
  {
   "cell_type": "markdown",
   "id": "3de02e6e",
   "metadata": {
    "hidden": true
   },
   "source": [
    "Here we can see we are losing some of our image on the sides of the chest cavity. We know that data is expensive, so we want to use the most of our images that we can. For arguments' sake, if we were willing to lose the worst 5% of our images based on ratio, let's examine an image with the ratio of the 5% quantile."
   ]
  },
  {
   "cell_type": "code",
   "execution_count": null,
   "id": "5b29a517",
   "metadata": {
    "hidden": true
   },
   "outputs": [],
   "source": [
    "all_images_df.quantile(q=0.05)"
   ]
  },
  {
   "cell_type": "code",
   "execution_count": null,
   "id": "d44e3d30",
   "metadata": {
    "hidden": true
   },
   "outputs": [],
   "source": [
    "all_images_df[all_images_df.ratio == 0.55]"
   ]
  },
  {
   "cell_type": "code",
   "execution_count": null,
   "id": "31977b43",
   "metadata": {
    "hidden": true
   },
   "outputs": [],
   "source": [
    "compare_cropping(1940)"
   ]
  },
  {
   "cell_type": "code",
   "execution_count": null,
   "id": "f891f1e9",
   "metadata": {
    "hidden": true,
    "scrolled": true
   },
   "outputs": [],
   "source": [
    "all_images_df[all_images_df.ratio <= 0.55].folder.value_counts()"
   ]
  },
  {
   "cell_type": "code",
   "execution_count": null,
   "id": "c4759a3f",
   "metadata": {
    "hidden": true
   },
   "outputs": [],
   "source": [
    "all_images_df[all_images_df.ratio <= 0.55].img_type.value_counts()"
   ]
  },
  {
   "cell_type": "code",
   "execution_count": null,
   "id": "d27c8bec",
   "metadata": {
    "hidden": true
   },
   "outputs": [],
   "source": [
    "len(all_images_df[all_images_df.ratio <= 0.55])/len(all_images_df)"
   ]
  },
  {
   "cell_type": "markdown",
   "id": "ad57471f",
   "metadata": {
    "hidden": true
   },
   "source": [
    "If we see impact during modeling, we may consider dropping images with ratios less than 0.55 from consideration. Most of the images are from our training set of positive cases (which we have a large majority of)."
   ]
  },
  {
   "cell_type": "markdown",
   "id": "74ddb57b",
   "metadata": {
    "heading_collapsed": true
   },
   "source": [
    "# Image Preprocessing"
   ]
  },
  {
   "cell_type": "markdown",
   "id": "7b09fa65",
   "metadata": {
    "hidden": true
   },
   "source": [
    "This next cell will run very much the same way when we were investigating the image ratios. This time, the goal will be to create arrays of images as arrays that will then be saved to disk for use in modeling (especially if we want to use a cloud-based service to run on ). Initially, the min_ratio for images is not set. In order to set it, update the value at the top of the cell and uncomment the lines below setting ratio (there is comment directing this)"
   ]
  },
  {
   "cell_type": "code",
   "execution_count": null,
   "id": "6f76b8d2",
   "metadata": {
    "hidden": true,
    "run_control": {
     "marked": false
    }
   },
   "outputs": [],
   "source": [
    "folder_names = ['train', 'test', 'val']\n",
    "img_names = ['NORMAL', 'PNEUMONIA']\n",
    "\n",
    "# minimum image dimension\n",
    "min_size = 256\n",
    "# minimum image ratio (default none)\n",
    "min_ratio = None\n",
    "\n",
    "# loop through the different combinations of folder name prefixes\n",
    "for folder in folder_names:\n",
    "    for img_type in img_names:\n",
    "        \n",
    "        # set up the path to each folder of images\n",
    "        path = f'./chest_xray/{folder}/{img_type}'\n",
    "        \n",
    "        # create a list of the filenames in that directory\n",
    "        filelist = list(listdir(path))\n",
    "        \n",
    "        # create empty lists for the image arrays and target values\n",
    "        array_list = []\n",
    "        target_list = []\n",
    "        \n",
    "        # loop through each file in the folder\n",
    "        for file_name in filelist:\n",
    "            \n",
    "            # set the filepath for the file in question\n",
    "            filepath = path + r'/' + file_name\n",
    "            \n",
    "            # open the image\n",
    "            image = Image.open(filepath)\n",
    "            \n",
    "            # some of our images are in RGB and need to convert to greyscale\n",
    "            if image.mode == 'RGB':\n",
    "                image = image.convert('L')\n",
    "            \n",
    "            # there are a small number of images with a dimension less than our minimum\n",
    "            # we are dropping them from consideration\n",
    "            if (image.height < min_size) or (image.width < min_size):\n",
    "                continue\n",
    "            \n",
    "            # resize and crop the image\n",
    "            image_modified = resize_and_crop(image)\n",
    "\n",
    "            # convert the image to a numpy array\n",
    "            image_as_array = np.asarray(image_modified)\n",
    "            \n",
    "            # here is where we can update to not consider images below a certain ratio\n",
    "            ratio = get_ratio(image_as_array)\n",
    "#             if ratio <= min_ratio:\n",
    "#                 continue\n",
    "            \n",
    "            # append the image array to the array_list\n",
    "            array_list.append(image_as_array)\n",
    "        \n",
    "            # set the target value based on the img_type and append to target_list\n",
    "            if img_type == 'NORMAL':\n",
    "                target_list.append(0)\n",
    "            else:\n",
    "                target_list.append(1)\n",
    "        \n",
    "        # set path for saving numpy data\n",
    "        data_path = f'./data/'\n",
    "        \n",
    "        final_array = np.asarray(array_list)\n",
    "        target_array = np.asarray(target_list)\n",
    "        \n",
    "        np.save(file=f'{data_path}{folder}_{img_type.lower()}_data.npy', arr=final_array)\n",
    "        np.save(file=f'{data_path}{folder}_{img_type.lower()}_target.npy', arr=target_array)"
   ]
  },
  {
   "cell_type": "markdown",
   "id": "54fd0fc1",
   "metadata": {},
   "source": [
    "# Loading Data"
   ]
  },
  {
   "cell_type": "code",
   "execution_count": 3,
   "id": "4c9baf5b",
   "metadata": {
    "ExecuteTime": {
     "end_time": "2022-03-23T21:26:22.641499Z",
     "start_time": "2022-03-23T21:26:22.366594Z"
    },
    "run_control": {
     "marked": true
    }
   },
   "outputs": [
    {
     "name": "stdout",
     "output_type": "stream",
     "text": [
      "Train data/target shapes: (5158, 256, 256), (5158,)\n",
      "Val data/target shapes: (16, 256, 256), (16,)\n",
      "Test data/target shapes: (624, 256, 256), (624,)\n"
     ]
    }
   ],
   "source": [
    "# set the data path and get the list of files\n",
    "data_path = f\"./data/\"\n",
    "data_files = list(listdir(data_path))\n",
    "\n",
    "# loop through each file\n",
    "for file in data_files:\n",
    "    \n",
    "    # split off the components of the file name\n",
    "    folder, image, xy = file[:-4].split('_')\n",
    "    # set a global variable loading the data from the file\n",
    "    globals()[f\"{folder}_{image}_{xy}\"] = np.load(data_path + file)\n",
    "\n",
    "# set train data and target\n",
    "train_data = np.concatenate((train_normal_data, train_pneumonia_data))\n",
    "y_train = np.concatenate((train_normal_target, train_pneumonia_target))\n",
    "\n",
    "# set validation data and target\n",
    "val_data = np.concatenate((val_normal_data, val_pneumonia_data))\n",
    "y_val = np.concatenate((val_normal_target, val_pneumonia_target))\n",
    "\n",
    "# set testing data and target\n",
    "test_data = np.concatenate((test_normal_data, test_pneumonia_data))\n",
    "y_test = np.concatenate((test_normal_target, test_pneumonia_target))\n",
    "\n",
    "# verify shapes are accurate\n",
    "print(f\"Train data/target shapes: {train_data.shape}, {y_train.shape}\")\n",
    "print(f\"Val data/target shapes: {val_data.shape}, {y_val.shape}\")\n",
    "print(f\"Test data/target shapes: {test_data.shape}, {y_test.shape}\")"
   ]
  },
  {
   "cell_type": "code",
   "execution_count": 4,
   "id": "f11f70d4",
   "metadata": {
    "ExecuteTime": {
     "end_time": "2022-03-23T21:26:23.718133Z",
     "start_time": "2022-03-23T21:26:22.800166Z"
    },
    "run_control": {
     "marked": true
    }
   },
   "outputs": [
    {
     "name": "stdout",
     "output_type": "stream",
     "text": [
      "New train data shape: (5158, 65536)\n",
      "New val data shape: (16, 65536)\n",
      "New test data shape: (624, 65536)\n"
     ]
    }
   ],
   "source": [
    "# set the lengths of each set of data\n",
    "train_len = train_data.shape[0]\n",
    "val_len = val_data.shape[0]\n",
    "test_len = test_data.shape[0]\n",
    "\n",
    "# set the new reshape size for the images\n",
    "img_size = train_data.shape[1] ** 2\n",
    "\n",
    "# reshape all three data groups\n",
    "X_train = train_data.reshape(train_len, img_size).astype('float32')\n",
    "X_val = val_data.reshape(val_len, img_size).astype('float32')\n",
    "X_test = test_data.reshape(test_len, img_size).astype('float32')\n",
    "\n",
    "# helper function to shuffle data/target in the same way\n",
    "def shuffle_arrays(data, target):\n",
    "    assert len(data) == len(target)\n",
    "    p = np.random.permutation(len(data))\n",
    "    return data[p], target[p]\n",
    "\n",
    "# shuffle all data\n",
    "X_train, y_train = shuffle_arrays(X_train, y_train)\n",
    "X_val, y_val = shuffle_arrays(X_val, y_val)\n",
    "X_test, y_test = shuffle_arrays(X_test, y_test)\n",
    "\n",
    "# verify shapes are accurate\n",
    "print(f\"New train data shape: {X_train.shape}\")\n",
    "print(f\"New val data shape: {X_val.shape}\")\n",
    "print(f\"New test data shape: {X_test.shape}\")"
   ]
  },
  {
   "cell_type": "code",
   "execution_count": 5,
   "id": "d005ae4a",
   "metadata": {
    "ExecuteTime": {
     "end_time": "2022-03-23T21:26:24.024988Z",
     "start_time": "2022-03-23T21:26:23.874105Z"
    },
    "run_control": {
     "marked": true
    }
   },
   "outputs": [],
   "source": [
    "# normalize the data\n",
    "X_train /= 255.\n",
    "X_val /= 255.\n",
    "X_test /= 255."
   ]
  },
  {
   "cell_type": "code",
   "execution_count": 49,
   "id": "e0199c57",
   "metadata": {
    "ExecuteTime": {
     "end_time": "2022-03-23T23:03:58.073697Z",
     "start_time": "2022-03-23T23:03:58.069730Z"
    }
   },
   "outputs": [],
   "source": [
    "# set up the X train/test/val for CNNs\n",
    "X_train_cnn = X_train.reshape(len(X_train), 256, 256, 1)\n",
    "X_val_cnn = X_val.reshape(len(X_val), 256, 256, 1)\n",
    "X_test_cnn = X_test.reshape(len(X_test), 256, 256, 1)"
   ]
  },
  {
   "cell_type": "markdown",
   "id": "27e5deca",
   "metadata": {},
   "source": [
    "# Modeling helpers"
   ]
  },
  {
   "cell_type": "markdown",
   "id": "b931fa5f",
   "metadata": {},
   "source": [
    "## Global Variables"
   ]
  },
  {
   "cell_type": "code",
   "execution_count": 6,
   "id": "0a6cc62a",
   "metadata": {
    "ExecuteTime": {
     "end_time": "2022-03-23T21:26:24.194255Z",
     "start_time": "2022-03-23T21:26:24.182221Z"
    },
    "run_control": {
     "marked": true
    }
   },
   "outputs": [
    {
     "name": "stdout",
     "output_type": "stream",
     "text": [
      "Training data contains:\n",
      "Total: 5158\n",
      "Negative: 1341 (26.0%)\n",
      "Positive: 3817 (74.0%)\n"
     ]
    }
   ],
   "source": [
    "# setting up training data class imbalance for eventual weighting\n",
    "neg, pos = np.bincount(y_train)\n",
    "total = neg+pos\n",
    "\n",
    "percent_neg = round(neg/total*100, 2)\n",
    "percent_pos = round(pos/total*100, 2)\n",
    "\n",
    "print(f'Training data contains:\\nTotal: {total}\\nNegative: {neg} ({percent_neg}%)\\nPositive: {pos} ({percent_pos}%)')"
   ]
  },
  {
   "cell_type": "code",
   "execution_count": 7,
   "id": "d06fc705",
   "metadata": {
    "ExecuteTime": {
     "end_time": "2022-03-23T21:26:24.424105Z",
     "start_time": "2022-03-23T21:26:24.350700Z"
    },
    "run_control": {
     "marked": true
    }
   },
   "outputs": [],
   "source": [
    "# setting up metrics for model comparison\n",
    "METRICS = [\n",
    "      keras.metrics.TruePositives(name='tp'),\n",
    "      keras.metrics.FalsePositives(name='fp'),\n",
    "      keras.metrics.TrueNegatives(name='tn'),\n",
    "      keras.metrics.FalseNegatives(name='fn'), \n",
    "      keras.metrics.BinaryAccuracy(name='accuracy'), # using binary accuracy\n",
    "      keras.metrics.Precision(name='precision'),\n",
    "      keras.metrics.Recall(name='recall'),\n",
    "      keras.metrics.AUC(name='auc'),\n",
    "      keras.metrics.AUC(name='prc', curve='PR'), # precision-recall curve\n",
    "]"
   ]
  },
  {
   "cell_type": "markdown",
   "id": "345bb102",
   "metadata": {},
   "source": [
    "## Helper Functions"
   ]
  },
  {
   "cell_type": "code",
   "execution_count": 52,
   "id": "ccdfc242",
   "metadata": {
    "ExecuteTime": {
     "end_time": "2022-03-23T23:07:12.379705Z",
     "start_time": "2022-03-23T23:07:12.350442Z"
    },
    "run_control": {
     "marked": true
    }
   },
   "outputs": [],
   "source": [
    "def model_report(model, threshold=0.5, model_type='MLP'):\n",
    "    \"\"\"\n",
    "    This helper function will allow us to quickly evaluate models that we\n",
    "    create by reporting the classification report and displaying a confusion\n",
    "    matrix\n",
    "    \n",
    "    Input(s)\n",
    "    - the model to report on\n",
    "    - the threshold for predictions (default to 0.5)\n",
    "    - the model type. This defaults to 'MLP', but if 'CNN' is passed it will use\n",
    "          different train/test/val sets\n",
    "    - user will input which dataset to test against\n",
    "    \"\"\"   \n",
    "    # get user input for testing dataset\n",
    "    print(\"Model reporting using input choice for testing dataset\")\n",
    "    print(\"Input S for training data\\nInput T for test data\\nInput V for validation data:\")\n",
    "    comparison_input = input()\n",
    "    # if the model is a CNN model, sets the CNN train/test/val arrays for the selected testing dataset\n",
    "    if model_type == 'CNN':\n",
    "        if comparison_input.lower() == 's':\n",
    "            X, y = X_train_cnn, y_train\n",
    "        elif comparison_input.lower() == 't':\n",
    "            X, y = X_test_cnn, y_test\n",
    "        elif comparison_input.lower() == 'v':\n",
    "            X, y = X_val_cnn, y_val        \n",
    "    # else set X and y to the default datasets for the selected testing dataset\n",
    "    elif model_type == 'MLP':\n",
    "        if comparison_input.lower() == 's':\n",
    "            X, y = X_train, y_train\n",
    "        elif comparison_input.lower() == 't':\n",
    "            X, y = X_test, y_test\n",
    "        elif comparison_input.lower() == 'v':\n",
    "            X, y = X_val, y_val\n",
    "    # create the y_pred \n",
    "    y_pred = model.predict(X)\n",
    "    # convert the predictions based on threshold of 0.5\n",
    "    converted_ypred = []\n",
    "    for i in range(len(y_pred)):\n",
    "        if y_pred[i][0] > threshold:\n",
    "            converted_ypred.append(1)\n",
    "        else:\n",
    "            converted_ypred.append(0)\n",
    "    # convert the converted y_preds back to an array\n",
    "    y_pred = np.asarray(converted_ypred)\n",
    "    # set up labels for classifcation report and confution matrix\n",
    "    report_labels = ['normal', 'pneumonia']\n",
    "    column_labels = ['predicted normal', 'predicted pneumonia']\n",
    "    index_labels = ['actual normal', 'actual pneumonia']\n",
    "    # generate the confusion matrix\n",
    "    cmatrix = confusion_matrix(y, y_pred)\n",
    "    # convert into dataframe\n",
    "    cmatrix_df = pd.DataFrame(cmatrix, columns=column_labels, index=index_labels)\n",
    "    print('---------------------------------------------------------------\\n')\n",
    "    # print the classification report\n",
    "    print(classification_report(y, y_pred, zero_division=0, target_names=report_labels))\n",
    "    # show report as heatmap   \n",
    "    fig, ax = plt.subplots(figsize=(8,6))\n",
    "    ax = sns.heatmap(data=cmatrix_df, annot=True, cmap='Blues', fmt='g')\n",
    "    locs, labels = plt.xticks()\n",
    "    plt.setp(labels, rotation=0)\n",
    "    \n",
    "def visualize_training_results(results):\n",
    "    # set the history of the results\n",
    "    history = results.history\n",
    "    # set 2 figures to 2 columns\n",
    "    fix, (ax1, ax2) = plt.subplots(figsize=(20,8), ncols=2)\n",
    "    # plot loss history\n",
    "    ax1.plot(history['val_loss'])\n",
    "    ax1.plot(history['loss'])\n",
    "    ax1.legend(['val_loss', 'loss'])\n",
    "    ax1.set_title('Loss')\n",
    "    ax1.set_xlabel('Epochs')\n",
    "    ax1.set_ylabel('Loss')\n",
    "    # plot accuracy history\n",
    "    ax2.plot(history['val_accuracy'])\n",
    "    ax2.plot(history['accuracy'])\n",
    "    ax2.legend(['val_acc', 'acc'])\n",
    "    ax2.set_title('Accuracy')\n",
    "    ax2.set_xlabel('Epochs')\n",
    "    ax2.set_ylabel('Accuracy')\n",
    "    # return plot\n",
    "    plt.show()\n",
    "\n",
    "def plot_metrics(history):\n",
    "    \n",
    "    metrics = ['loss', 'prc', 'precision', 'recall']\n",
    "    \n",
    "    for n, metric in enumerate(metrics):\n",
    "        name = metric.replace(\"_\",\" \").capitalize()\n",
    "        plt.subplot(2,2,n+1)\n",
    "        plt.plot(history.epoch, history.history[metric], color=colors[0], label='Train')\n",
    "        plt.plot(history.epoch, history.history['val_'+metric], color=colors[0], linestyle=\"--\", label='Val')\n",
    "        plt.xlabel('Epoch')\n",
    "        plt.ylabel(name)\n",
    "        if metric == 'loss':\n",
    "            plt.ylim([0, plt.ylim()[1]])\n",
    "        elif metric == 'auc':\n",
    "            plt.ylim([0.8,1])\n",
    "        else:\n",
    "            plt.ylim([0,1])\n",
    "\n",
    "    plt.legend();\n",
    "    \n",
    "def full_report(model, results, model_type):\n",
    "    model_report(model, model_type=model_type)\n",
    "    visualize_training_results(results)\n",
    "#     plot_metrics(results.history)"
   ]
  },
  {
   "cell_type": "markdown",
   "id": "71f514a4",
   "metadata": {
    "heading_collapsed": true
   },
   "source": [
    "# Baseline - MLP model"
   ]
  },
  {
   "cell_type": "markdown",
   "id": "378d003e",
   "metadata": {
    "hidden": true
   },
   "source": [
    "Inspiration from TensorFlow Tutorial to enact some changes to process and account for imbalanced data. [Source](https://www.tensorflow.org/tutorials/structured_data/imbalanced_data)"
   ]
  },
  {
   "cell_type": "code",
   "execution_count": null,
   "id": "1ae20c4f",
   "metadata": {
    "hidden": true
   },
   "outputs": [],
   "source": [
    "from sklearn.utils import class_weight\n",
    "\n",
    "class_weights = class_weight.compute_class_weight(class_weight='balanced', classes=np.unique(y_train), y=y_train)"
   ]
  },
  {
   "cell_type": "code",
   "execution_count": null,
   "id": "2c66e197",
   "metadata": {
    "hidden": true
   },
   "outputs": [],
   "source": [
    "def make_baseline_model():\n",
    "       \n",
    "    # set up model\n",
    "    model = keras.Sequential()\n",
    "    model.add(Dense(128, activation='relu', input_shape = (X_train.shape[-1],)))\n",
    "    model.add(Dropout(0.5))\n",
    "    model.add(Dense(64, activation='relu'))\n",
    "    model.add(Dropout(0.5))\n",
    "    model.add(Dense(32, activation='relu'))\n",
    "    model.add(Dropout(0.5))\n",
    "    model.add(Dense(1, activation='sigmoid'))\n",
    "    \n",
    "    # compile model\n",
    "    model.compile(loss='binary_crossentropy',\n",
    "                  optimizer='Adam',\n",
    "                  metrics=METRICS)\n",
    "\n",
    "    return model"
   ]
  },
  {
   "cell_type": "code",
   "execution_count": null,
   "id": "dd8e813b",
   "metadata": {
    "hidden": true,
    "scrolled": false
   },
   "outputs": [],
   "source": [
    "baseline_model = make_baseline_model()\n",
    "baseline_model.summary()"
   ]
  },
  {
   "cell_type": "code",
   "execution_count": null,
   "id": "ad7082b0",
   "metadata": {
    "hidden": true,
    "scrolled": true
   },
   "outputs": [],
   "source": [
    "EPOCHS = 5\n",
    "BATCH_SIZE = 30\n",
    "\n",
    "baseline_results = baseline_model.fit(X_train, y_train,\n",
    "                                      batch_size=BATCH_SIZE,\n",
    "                                      epochs=EPOCHS,\n",
    "                                      class_weight=dict(enumerate(class_weights)),\n",
    "                                      validation_data=(X_val, y_val))"
   ]
  },
  {
   "cell_type": "code",
   "execution_count": null,
   "id": "0d58662f",
   "metadata": {
    "hidden": true
   },
   "outputs": [],
   "source": [
    "full_report(baseline_model, baseline_results)"
   ]
  },
  {
   "cell_type": "markdown",
   "id": "596bb4f9",
   "metadata": {
    "hidden": true
   },
   "source": [
    "This doesn't look great. Our model accuracy is at 74% and steady, and the validation is at 50%. Unsurprisingly, these are the percentages of our data that are labeled with pneumonia (74% for training, 50% for validation). "
   ]
  },
  {
   "cell_type": "markdown",
   "id": "0c47a9bc",
   "metadata": {},
   "source": [
    "# CNN"
   ]
  },
  {
   "cell_type": "code",
   "execution_count": 37,
   "id": "f1c49146",
   "metadata": {
    "ExecuteTime": {
     "end_time": "2022-03-23T21:48:42.865059Z",
     "start_time": "2022-03-23T21:48:42.856667Z"
    }
   },
   "outputs": [],
   "source": [
    "def make_cnn_model():\n",
    "    \n",
    "    model = Sequential()\n",
    "    model.add(Conv2D(32, (3,3), activation='relu', input_shape=(256,256,1)))\n",
    "    model.add(MaxPooling2D((2,2)))\n",
    "    model.add(Conv2D(64, (3,3), activation='relu'))\n",
    "    model.add(MaxPooling2D((2,2)))\n",
    "    model.add(Conv2D(64, (3,3), activation='relu'))\n",
    "    model.add(Flatten())\n",
    "    model.add(Dense(64, activation='relu'))\n",
    "    model.add(Dense(1, activation='sigmoid'))\n",
    "    \n",
    "    model.compile(loss='binary_crossentropy',\n",
    "                  optimizer='adam',\n",
    "                  metrics=METRICS)\n",
    "\n",
    "    return model"
   ]
  },
  {
   "cell_type": "code",
   "execution_count": 38,
   "id": "f513212e",
   "metadata": {
    "ExecuteTime": {
     "end_time": "2022-03-23T21:48:44.541080Z",
     "start_time": "2022-03-23T21:48:44.261832Z"
    }
   },
   "outputs": [
    {
     "name": "stdout",
     "output_type": "stream",
     "text": [
      "Model: \"sequential_1\"\n",
      "_________________________________________________________________\n",
      " Layer (type)                Output Shape              Param #   \n",
      "=================================================================\n",
      " conv2d_4 (Conv2D)           (None, 254, 254, 32)      320       \n",
      "                                                                 \n",
      " max_pooling2d_2 (MaxPooling  (None, 127, 127, 32)     0         \n",
      " 2D)                                                             \n",
      "                                                                 \n",
      " conv2d_5 (Conv2D)           (None, 125, 125, 64)      18496     \n",
      "                                                                 \n",
      " max_pooling2d_3 (MaxPooling  (None, 62, 62, 64)       0         \n",
      " 2D)                                                             \n",
      "                                                                 \n",
      " conv2d_6 (Conv2D)           (None, 60, 60, 64)        36928     \n",
      "                                                                 \n",
      " flatten_1 (Flatten)         (None, 230400)            0         \n",
      "                                                                 \n",
      " dense_2 (Dense)             (None, 64)                14745664  \n",
      "                                                                 \n",
      " dense_3 (Dense)             (None, 1)                 65        \n",
      "                                                                 \n",
      "=================================================================\n",
      "Total params: 14,801,473\n",
      "Trainable params: 14,801,473\n",
      "Non-trainable params: 0\n",
      "_________________________________________________________________\n"
     ]
    }
   ],
   "source": [
    "cnn_model = make_cnn_model()\n",
    "cnn_model.summary()"
   ]
  },
  {
   "cell_type": "code",
   "execution_count": 39,
   "id": "d9b79bdb",
   "metadata": {
    "ExecuteTime": {
     "end_time": "2022-03-23T22:16:38.484443Z",
     "start_time": "2022-03-23T21:48:47.398721Z"
    },
    "scrolled": true
   },
   "outputs": [
    {
     "name": "stdout",
     "output_type": "stream",
     "text": [
      "Epoch 1/10\n",
      "104/104 [==============================] - 170s 2s/step - loss: 0.3825 - tp: 3590.0000 - fp: 761.0000 - tn: 580.0000 - fn: 227.0000 - accuracy: 0.8085 - precision: 0.8251 - recall: 0.9405 - auc: 0.8812 - prc: 0.9492 - val_loss: 0.6476 - val_tp: 8.0000 - val_fp: 3.0000 - val_tn: 5.0000 - val_fn: 0.0000e+00 - val_accuracy: 0.8125 - val_precision: 0.7273 - val_recall: 1.0000 - val_auc: 0.8203 - val_prc: 0.8157\n",
      "Epoch 2/10\n",
      "104/104 [==============================] - 167s 2s/step - loss: 0.1415 - tp: 3693.0000 - fp: 146.0000 - tn: 1195.0000 - fn: 124.0000 - accuracy: 0.9477 - precision: 0.9620 - recall: 0.9675 - auc: 0.9837 - prc: 0.9941 - val_loss: 1.3697 - val_tp: 8.0000 - val_fp: 7.0000 - val_tn: 1.0000 - val_fn: 0.0000e+00 - val_accuracy: 0.5625 - val_precision: 0.5333 - val_recall: 1.0000 - val_auc: 0.8828 - val_prc: 0.8208\n",
      "Epoch 3/10\n",
      "104/104 [==============================] - 166s 2s/step - loss: 0.1201 - tp: 3705.0000 - fp: 126.0000 - tn: 1215.0000 - fn: 112.0000 - accuracy: 0.9539 - precision: 0.9671 - recall: 0.9707 - auc: 0.9873 - prc: 0.9947 - val_loss: 0.7341 - val_tp: 7.0000 - val_fp: 2.0000 - val_tn: 6.0000 - val_fn: 1.0000 - val_accuracy: 0.8125 - val_precision: 0.7778 - val_recall: 0.8750 - val_auc: 0.8359 - val_prc: 0.7207\n",
      "Epoch 4/10\n",
      "104/104 [==============================] - 166s 2s/step - loss: 0.1019 - tp: 3718.0000 - fp: 101.0000 - tn: 1240.0000 - fn: 99.0000 - accuracy: 0.9612 - precision: 0.9736 - recall: 0.9741 - auc: 0.9914 - prc: 0.9967 - val_loss: 0.6126 - val_tp: 7.0000 - val_fp: 2.0000 - val_tn: 6.0000 - val_fn: 1.0000 - val_accuracy: 0.8125 - val_precision: 0.7778 - val_recall: 0.8750 - val_auc: 0.9062 - val_prc: 0.9108\n",
      "Epoch 5/10\n",
      "104/104 [==============================] - 168s 2s/step - loss: 0.0717 - tp: 3749.0000 - fp: 77.0000 - tn: 1264.0000 - fn: 68.0000 - accuracy: 0.9719 - precision: 0.9799 - recall: 0.9822 - auc: 0.9955 - prc: 0.9983 - val_loss: 0.3411 - val_tp: 7.0000 - val_fp: 1.0000 - val_tn: 7.0000 - val_fn: 1.0000 - val_accuracy: 0.8750 - val_precision: 0.8750 - val_recall: 0.8750 - val_auc: 0.9062 - val_prc: 0.8627\n",
      "Epoch 6/10\n",
      "104/104 [==============================] - 168s 2s/step - loss: 0.0768 - tp: 3746.0000 - fp: 76.0000 - tn: 1265.0000 - fn: 71.0000 - accuracy: 0.9715 - precision: 0.9801 - recall: 0.9814 - auc: 0.9947 - prc: 0.9980 - val_loss: 0.7754 - val_tp: 8.0000 - val_fp: 4.0000 - val_tn: 4.0000 - val_fn: 0.0000e+00 - val_accuracy: 0.7500 - val_precision: 0.6667 - val_recall: 1.0000 - val_auc: 0.8828 - val_prc: 0.9128\n",
      "Epoch 7/10\n",
      "104/104 [==============================] - 166s 2s/step - loss: 0.0614 - tp: 3766.0000 - fp: 61.0000 - tn: 1280.0000 - fn: 51.0000 - accuracy: 0.9783 - precision: 0.9841 - recall: 0.9866 - auc: 0.9956 - prc: 0.9978 - val_loss: 0.4447 - val_tp: 6.0000 - val_fp: 1.0000 - val_tn: 7.0000 - val_fn: 2.0000 - val_accuracy: 0.8125 - val_precision: 0.8571 - val_recall: 0.7500 - val_auc: 0.9062 - val_prc: 0.9270\n",
      "Epoch 8/10\n",
      "104/104 [==============================] - 167s 2s/step - loss: 0.0411 - tp: 3778.0000 - fp: 30.0000 - tn: 1311.0000 - fn: 39.0000 - accuracy: 0.9866 - precision: 0.9921 - recall: 0.9898 - auc: 0.9984 - prc: 0.9993 - val_loss: 0.3385 - val_tp: 6.0000 - val_fp: 1.0000 - val_tn: 7.0000 - val_fn: 2.0000 - val_accuracy: 0.8125 - val_precision: 0.8571 - val_recall: 0.7500 - val_auc: 0.8906 - val_prc: 0.9170\n",
      "Epoch 9/10\n",
      "104/104 [==============================] - 167s 2s/step - loss: 0.0531 - tp: 3766.0000 - fp: 42.0000 - tn: 1299.0000 - fn: 51.0000 - accuracy: 0.9820 - precision: 0.9890 - recall: 0.9866 - auc: 0.9967 - prc: 0.9984 - val_loss: 0.2626 - val_tp: 6.0000 - val_fp: 0.0000e+00 - val_tn: 8.0000 - val_fn: 2.0000 - val_accuracy: 0.8750 - val_precision: 1.0000 - val_recall: 0.7500 - val_auc: 0.9531 - val_prc: 0.9570\n",
      "Epoch 10/10\n",
      "104/104 [==============================] - 166s 2s/step - loss: 0.0251 - tp: 3793.0000 - fp: 23.0000 - tn: 1318.0000 - fn: 24.0000 - accuracy: 0.9909 - precision: 0.9940 - recall: 0.9937 - auc: 0.9994 - prc: 0.9998 - val_loss: 0.5551 - val_tp: 7.0000 - val_fp: 2.0000 - val_tn: 6.0000 - val_fn: 1.0000 - val_accuracy: 0.8125 - val_precision: 0.7778 - val_recall: 0.8750 - val_auc: 0.9375 - val_prc: 0.9442\n"
     ]
    }
   ],
   "source": [
    "EPOCHS = 10\n",
    "BATCH_SIZE = 50\n",
    "\n",
    "cnn_model_results = cnn_model.fit(X_train_cnn, y_train,\n",
    "                                  batch_size=BATCH_SIZE,\n",
    "                                  epochs=EPOCHS,\n",
    "                                  validation_data=(X_val_cnn, y_val))"
   ]
  },
  {
   "cell_type": "code",
   "execution_count": 55,
   "id": "9f0a357f",
   "metadata": {
    "ExecuteTime": {
     "end_time": "2022-03-23T23:11:16.091993Z",
     "start_time": "2022-03-23T23:11:10.787164Z"
    }
   },
   "outputs": [
    {
     "name": "stdout",
     "output_type": "stream",
     "text": [
      "Model reporting using input choice for testing dataset\n",
      "Input S for training data\n",
      "Input T for test data\n",
      "Input V for validation data:\n",
      "V\n",
      "---------------------------------------------------------------\n",
      "\n",
      "              precision    recall  f1-score   support\n",
      "\n",
      "      normal       0.86      0.75      0.80         8\n",
      "   pneumonia       0.78      0.88      0.82         8\n",
      "\n",
      "    accuracy                           0.81        16\n",
      "   macro avg       0.82      0.81      0.81        16\n",
      "weighted avg       0.82      0.81      0.81        16\n",
      "\n"
     ]
    },
    {
     "data": {
      "image/png": "[encoded data removed]",
      "text/plain": [
       "<Figure size 576x432 with 2 Axes>"
      ]
     },
     "metadata": {
      "needs_background": "light"
     },
     "output_type": "display_data"
    },
    {
     "data": {
      "image/png": "[encoded data removed]",
      "text/plain": [
       "<Figure size 1440x576 with 2 Axes>"
      ]
     },
     "metadata": {
      "needs_background": "light"
     },
     "output_type": "display_data"
    }
   ],
   "source": [
    "full_report(cnn_model, cnn_model_results, model_type='CNN')"
   ]
  },
  {
   "cell_type": "code",
   "execution_count": null,
   "id": "08214b22",
   "metadata": {},
   "outputs": [],
   "source": []
  }
 ],
 "metadata": {
  "kernelspec": {
   "display_name": "Python 3 (ipykernel)",
   "language": "python",
   "name": "python3"
  },
  "language_info": {
   "codemirror_mode": {
    "name": "ipython",
    "version": 3
   },
   "file_extension": ".py",
   "mimetype": "text/x-python",
   "name": "python",
   "nbconvert_exporter": "python",
   "pygments_lexer": "ipython3",
   "version": "3.9.7"
  },
  "toc": {
   "base_numbering": 1,
   "nav_menu": {},
   "number_sections": true,
   "sideBar": true,
   "skip_h1_title": false,
   "title_cell": "Table of Contents",
   "title_sidebar": "Contents",
   "toc_cell": false,
   "toc_position": {
    "height": "calc(100% - 180px)",
    "left": "10px",
    "top": "150px",
    "width": "512px"
   },
   "toc_section_display": true,
   "toc_window_display": true
  },
  "varInspector": {
   "cols": {
    "lenName": 16,
    "lenType": 16,
    "lenVar": 40
   },
   "kernels_config": {
    "python": {
     "delete_cmd_postfix": "",
     "delete_cmd_prefix": "del ",
     "library": "var_list.py",
     "varRefreshCmd": "print(var_dic_list())"
    },
    "r": {
     "delete_cmd_postfix": ") ",
     "delete_cmd_prefix": "rm(",
     "library": "var_list.r",
     "varRefreshCmd": "cat(var_dic_list()) "
    }
   },
   "position": {
    "height": "936.828px",
    "left": "1903px",
    "right": "20px",
    "top": "118px",
    "width": "599px"
   },
   "types_to_exclude": [
    "module",
    "function",
    "builtin_function_or_method",
    "instance",
    "_Feature"
   ],
   "window_display": false
  }
 },
 "nbformat": 4,
 "nbformat_minor": 5
}
