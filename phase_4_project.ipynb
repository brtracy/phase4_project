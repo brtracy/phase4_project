{
 "cells": [
  {
   "cell_type": "markdown",
   "id": "d35725b1",
   "metadata": {},
   "source": [
    "**NOTE** Run all cells in section 2, then skip to section 5 for imports (all preprocessing is done)"
   ]
  },
  {
   "cell_type": "markdown",
   "id": "ce8bbabe",
   "metadata": {},
   "source": [
    "# Business Problem"
   ]
  },
  {
   "cell_type": "markdown",
   "id": "2fda2848",
   "metadata": {},
   "source": [
    "Pneumonia is a common infection that causes inflammation and possible fluid accumulation in the air sacs of the lungs.\n",
    "\n",
    "\n",
    "[In China, pneumonia is one of the leading causes of death for children under 5 years old](https://journals.lww.com/md-journal/Fulltext/2018/11160/The_drug_use_to_treat_community_acquired_pneumonia.42.aspx#:~:text=More%20than%202%20million%200,the%20age%20of%205%20years.)\n",
    "\n",
    "\n",
    "Causes of pneumonia include bactria, virus and fungal sources. \n",
    "\n",
    "[Pediatric pneumonia is generally diagnosed based on the time of the year and the results of a physical exam, paying attention the child's breathing and listening to the lungs](https://www.nationwidechildrens.org/conditions/pneumonia). Further testing can include blood tests and chest X-rays. \n",
    "\n",
    "\n",
    "Even with modern medicine, pneumonia can be misdiagnosed. A fast and accurate diagnosis allow doctors to treat the infection with the appropirate care. \n",
    "\n",
    "\n",
    "One application of machine learning in medicine is digital diagnosis. \n",
    "\n",
    "\n",
    "We have been tasked with developing an identification model to determine if a chest X-ray indicates the presence of pneumonia. False negative results are to be minimized compared to false positives.\n",
    "\n",
    "The data is sourced from [Kaggle](https://www.kaggle.com/datasets/paultimothymooney/chest-xray-pneumonia). It is already split into three folders for training, validation and testing. All the chest radiographs were screened for quality and diagnostic labeling performed by physicians. The images were collected during routine clinicial care of pediatric patients between one and five years old from Guangzhou Women and Children's Medical Center in Guangzhou, China."
   ]
  },
  {
   "cell_type": "markdown",
   "id": "42b27bf4",
   "metadata": {},
   "source": [
    "# Imports"
   ]
  },
  {
   "cell_type": "code",
   "execution_count": 17,
   "id": "da995402",
   "metadata": {
    "ExecuteTime": {
     "end_time": "2022-03-28T19:15:13.837864Z",
     "start_time": "2022-03-28T19:15:13.818989Z"
    },
    "run_control": {
     "marked": true
    }
   },
   "outputs": [],
   "source": [
    "import os\n",
    "from os import listdir\n",
    "from os.path import isfile, join\n",
    "import tempfile\n",
    "\n",
    "from PIL import Image\n",
    "import math\n",
    "\n",
    "import pandas as pd\n",
    "import numpy as np\n",
    "\n",
    "import seaborn as sns\n",
    "import matplotlib as mpl\n",
    "import matplotlib.pyplot as plt\n",
    "%matplotlib inline\n",
    "\n",
    "import sklearn\n",
    "from sklearn.model_selection import cross_val_score, StratifiedKFold\n",
    "from sklearn.metrics import confusion_matrix, classification_report\n",
    "from sklearn.utils.class_weight import compute_class_weight\n",
    "\n",
    "import tensorflow as tf\n",
    "from tensorflow import keras\n",
    "\n",
    "from keras.callbacks import EarlyStopping\n",
    "from keras.wrappers.scikit_learn import KerasClassifier\n",
    "from keras.models import Sequential\n",
    "from keras.layers import Dense, Dropout, Conv2D, MaxPooling2D, Flatten"
   ]
  },
  {
   "cell_type": "code",
   "execution_count": 2,
   "id": "66ee54ba",
   "metadata": {
    "ExecuteTime": {
     "end_time": "2022-03-28T18:53:56.350183Z",
     "start_time": "2022-03-28T18:53:56.337265Z"
    },
    "run_control": {
     "marked": true
    }
   },
   "outputs": [],
   "source": [
    "# os.environ['KMP_DUPLICATE_LIB_OK']='True' #This prevents kernel shut down due to xgboost conflict\n",
    "# set figsize for matplotlib\n",
    "mpl.rcParams['figure.figsize'] = (12, 10)\n",
    "# set colors for plots\n",
    "colors = plt.rcParams['axes.prop_cycle'].by_key()['color']"
   ]
  },
  {
   "cell_type": "markdown",
   "id": "eb8457c2",
   "metadata": {},
   "source": [
    "# EDA"
   ]
  },
  {
   "cell_type": "markdown",
   "id": "509ce2ed",
   "metadata": {},
   "source": [
    "## Helper Functions"
   ]
  },
  {
   "cell_type": "markdown",
   "id": "30ed5af5",
   "metadata": {},
   "source": [
    "Helper functions:\n",
    "- get_ratio: return the ratio of an 2D image array width:height\n",
    "- resize_and_crop: returns a scaled and cropped image"
   ]
  },
  {
   "cell_type": "code",
   "execution_count": 103,
   "id": "6cba1f5a",
   "metadata": {
    "ExecuteTime": {
     "end_time": "2022-03-28T23:24:04.050456Z",
     "start_time": "2022-03-28T23:24:04.041031Z"
    },
    "run_control": {
     "marked": false
    }
   },
   "outputs": [],
   "source": [
    "def get_ratio(array):\n",
    "    return array.shape[0]/array.shape[1]\n",
    "\n",
    "def resize_and_crop(image, new_size=256):\n",
    "    \"\"\"\n",
    "    This function will take in an image, resize and crop it to a square.\n",
    "    The default new length for a side is 256 pixels.\n",
    "    The function will output a new square, centered image.\n",
    "    \n",
    "    \"\"\"\n",
    "    # get width and height from passed image   \n",
    "    width, height = image.size\n",
    "    # set up variables for new width and height\n",
    "    new_width = 0\n",
    "    new_height = 0\n",
    "    # calculate the ratio and length of the smaller dimension if the larger moves to the new_size\n",
    "    if width > height:\n",
    "        ratio_wh = width / height\n",
    "        new_width = int(ratio_wh * new_size)\n",
    "        new_height = new_size\n",
    "    else:\n",
    "        ratio_hw = height / width\n",
    "        new_width = new_size\n",
    "        new_height = int(ratio_hw * new_size)\n",
    "    # resize the image\n",
    "    scaled_image = image.resize((new_width, new_height))\n",
    "    # if the image is wider, crop in equally from the sides to preserve center of image\n",
    "    # perform the opposite on images that are taller\n",
    "    if new_width > new_height:\n",
    "        # we are only cropping in from left and right, so set top crop to 0 and bottom to new_size\n",
    "        top = 0\n",
    "        bottom = new_size\n",
    "        # set the left and right side crop values\n",
    "        left = int(math.ceil((new_width - new_size) / 2))\n",
    "        right = new_width - int(math.floor((new_width - new_size) / 2))\n",
    "        # crop the image\n",
    "        cropped_image = scaled_image.crop((left, top, right, bottom))\n",
    "    else:\n",
    "        # we are only cropping top and bottom, so set left crop to 0 and right crop to new_size\n",
    "        left = 0\n",
    "        right = new_size\n",
    "        # set the top and bottom crop values\n",
    "        top = int(math.ceil((new_height - new_size) / 2))\n",
    "        bottom = new_height - int(math.floor((new_height - new_size) / 2))\n",
    "        # save the cropped image\n",
    "        cropped_image = scaled_image.crop((left, top, right, bottom))\n",
    "    # return the scaled and cropped image\n",
    "    return cropped_image"
   ]
  },
  {
   "cell_type": "markdown",
   "id": "ab81db2f",
   "metadata": {},
   "source": [
    "## Image size"
   ]
  },
  {
   "cell_type": "markdown",
   "id": "520e6d08",
   "metadata": {},
   "source": [
    "First, we are going to build a dataframe that contains all the image information for us to look at image sizes."
   ]
  },
  {
   "cell_type": "code",
   "execution_count": null,
   "id": "bfc60686",
   "metadata": {},
   "outputs": [],
   "source": [
    "folder_names = ['train', 'test', 'val']\n",
    "label_names = ['NORMAL', 'PNEUMONIA']\n",
    "\n",
    "all_images = []\n",
    "\n",
    "# loop through the different combinations of folder name prefixes\n",
    "for folder in folder_names:\n",
    "    for label in label_names:\n",
    "        # set up the path to each folder of images\n",
    "        path = f'./chest_xray/{folder}/{label}'\n",
    "        # create a list of the filenames in that directory\n",
    "        filelist = list(listdir(path))\n",
    "        # loop through each file in the folder\n",
    "        for file_name in filelist:\n",
    "            # set the filepath for the file in question\n",
    "            filepath = path + r'/' + file_name\n",
    "            # open the image\n",
    "            image = Image.open(filepath)\n",
    "            # convert the few B/W images coded as RGB back to greyscale\n",
    "            if image.mode == 'RGB':\n",
    "                image = image.convert('L')\n",
    "            # convert the image into an array\n",
    "            image_array = np.asarray(image)\n",
    "            # get the ratio, height, and width of the image\n",
    "            ratio = get_ratio(image_array)\n",
    "            height, width = image_array.shape            \n",
    "            # append all the image information to the list of images\n",
    "            all_images.append((folder, label, file_name, ratio, width, height))\n",
    "\n",
    "# set the column names\n",
    "column_names = ['folder', 'label', 'file_name', 'ratio', 'width', 'height']\n",
    "# convert the list of images to a dataframe\n",
    "all_images_df = pd.DataFrame(all_images, columns=column_names)"
   ]
  },
  {
   "cell_type": "code",
   "execution_count": null,
   "id": "ce18aedd",
   "metadata": {},
   "outputs": [],
   "source": [
    "all_images_df.head()"
   ]
  },
  {
   "cell_type": "code",
   "execution_count": null,
   "id": "e34a74ed",
   "metadata": {},
   "outputs": [],
   "source": [
    "all_images_df.describe()"
   ]
  },
  {
   "cell_type": "markdown",
   "id": "610fe9e4",
   "metadata": {},
   "source": [
    "For best results in modeling it was advised to scale images to 256x256. We can see that there are some images whose height is below our minimum, lets look a little closer."
   ]
  },
  {
   "cell_type": "code",
   "execution_count": null,
   "id": "2d7c9da3",
   "metadata": {
    "scrolled": true
   },
   "outputs": [],
   "source": [
    "small_images_df = all_images_df[all_images_df.height < 256].copy()"
   ]
  },
  {
   "cell_type": "code",
   "execution_count": null,
   "id": "09c6e17e",
   "metadata": {},
   "outputs": [],
   "source": [
    "small_image_count = len(small_images_df)\n",
    "\n",
    "print(f'There are {small_image_count} images with a dimension under 256.')\n",
    "print('-------------------------------')\n",
    "print('Small images occur in the following data/labels:')\n",
    "display(all_images_df[all_images_df.height < 256].folder.value_counts())\n",
    "display(all_images_df[all_images_df.height < 256].label.value_counts())"
   ]
  },
  {
   "cell_type": "code",
   "execution_count": null,
   "id": "3d051857",
   "metadata": {},
   "outputs": [],
   "source": [
    "print('Target distribution in training data')\n",
    "round(all_images_df[all_images_df.folder == 'train'].label.value_counts(normalize=True)*100, 2)"
   ]
  },
  {
   "cell_type": "code",
   "execution_count": null,
   "id": "2ad8d4af",
   "metadata": {},
   "outputs": [],
   "source": [
    "percent_small = round(small_image_count / len(all_images_df[(all_images_df.label == \"PNEUMONIA\") & (all_images_df.folder == 'train')]), 2)\n",
    "print(f'The {small_image_count} small images represent {percent_small}% of our training data with the pneumonia label')"
   ]
  },
  {
   "cell_type": "code",
   "execution_count": null,
   "id": "f1260c19",
   "metadata": {
    "scrolled": false
   },
   "outputs": [],
   "source": [
    "small_images_df.ratio.plot(kind='hist');"
   ]
  },
  {
   "cell_type": "markdown",
   "id": "58c8cb20",
   "metadata": {},
   "source": [
    "We can see here that there are only 58 images out of our total 5856 which have a dimension less than our minimum. They are all from training images positive with pneumonia, where we have a large imbalance of that data. Additionally, the ratios of these images are small, meaning that they are significantly wider than they are tall. This would also pose a problem as our images are chest x-rays, and those wider images would likely get cut off when we resize them to square. \n",
    "\n",
    "We will not consider these images in modeling so we will drop them from the dataframe."
   ]
  },
  {
   "cell_type": "code",
   "execution_count": null,
   "id": "777856fd",
   "metadata": {},
   "outputs": [],
   "source": [
    "images_df = all_images_df.drop(small_images_df.index)\n",
    "images_df.reset_index(drop=True, inplace=True)"
   ]
  },
  {
   "cell_type": "markdown",
   "id": "2035ea10",
   "metadata": {},
   "source": [
    "__________________\n",
    "\n",
    "Since we discovered that the smaller images had very low ratios, let's consider the ratios of the all the rest of the images."
   ]
  },
  {
   "cell_type": "code",
   "execution_count": null,
   "id": "8a5e172b",
   "metadata": {},
   "outputs": [],
   "source": [
    "images_df.ratio.describe()"
   ]
  },
  {
   "cell_type": "code",
   "execution_count": null,
   "id": "ddaa6035",
   "metadata": {
    "scrolled": false
   },
   "outputs": [],
   "source": [
    "images_df.ratio.plot(kind='hist');"
   ]
  },
  {
   "cell_type": "markdown",
   "id": "5993e2e1",
   "metadata": {},
   "source": [
    "Most of our images (75%) have a ratio above 0.63, but the minimum is very low at 0.38. It's suspected that cropping the images that we have with low ratio (which indicates very wide images) may be problematic, so it may be something we have to return to and consider dropping some images with a ratio below a certain threshold. We can do some quick investigation into that."
   ]
  },
  {
   "cell_type": "markdown",
   "id": "3e2bfd22",
   "metadata": {},
   "source": [
    "## Cropping"
   ]
  },
  {
   "cell_type": "code",
   "execution_count": null,
   "id": "05a2a96f",
   "metadata": {},
   "outputs": [],
   "source": [
    "def compare_cropping(index_value, df=images_df):\n",
    "    \"\"\"\n",
    "    This helper function will take in the index value of an image in the default\n",
    "    dataframe: all_images_df. It will display the width, height, and ratio of the\n",
    "    original with the original image. It will then perform the cropping and display\n",
    "    the new imaged data along with the new cropped image for comparison.   \n",
    "    \"\"\"\n",
    "    # Get the folder and img_type value from the dataframe to contsruct the folder root\n",
    "    folder = df.iloc[index_value]['folder']\n",
    "    label = df.iloc[index_value]['label']\n",
    "    # constrcut the folder root for the file in question\n",
    "    root=f\"./chest_xray/{folder}/{label}/\"\n",
    "    # set the image path and open the image\n",
    "    image_path = root + df.iloc[index_value]['file_name']\n",
    "    image = Image.open(image_path)\n",
    "    # print the dimensions, ratio, and original image\n",
    "    print(f\"width: {image.width}\\theight: {image.height}\\tratio: {image.height/image.width}\")\n",
    "    display(image)\n",
    "    # crop the image\n",
    "    cropped_image = resize_and_crop(image)\n",
    "    # print the new image (will be 256x256 with ratio of 1.0)\n",
    "    display(cropped_image)"
   ]
  },
  {
   "cell_type": "markdown",
   "id": "7057a7ce",
   "metadata": {},
   "source": [
    "Let's look at an image with our 25th percentile value for ratio: 0.63"
   ]
  },
  {
   "cell_type": "code",
   "execution_count": null,
   "id": "6aba5bde",
   "metadata": {
    "scrolled": false
   },
   "outputs": [],
   "source": [
    "compare_cropping(images_df[images_df.ratio == 0.63].index[0])"
   ]
  },
  {
   "cell_type": "markdown",
   "id": "3de02e6e",
   "metadata": {},
   "source": [
    "Here we can see we are losing some of our image on the sides of the chest cavity. We know that data is expensive, so we want to use the most of our images that we can. For arguments' sake, if we were willing to lose the worst 5% of our images based on ratio, let's examine an image with the ratio of the 5% quantile."
   ]
  },
  {
   "cell_type": "code",
   "execution_count": null,
   "id": "5b29a517",
   "metadata": {},
   "outputs": [],
   "source": [
    "images_df.quantile(q=0.05)"
   ]
  },
  {
   "cell_type": "code",
   "execution_count": null,
   "id": "31977b43",
   "metadata": {},
   "outputs": [],
   "source": [
    "compare_cropping(images_df[images_df.ratio == 0.55].index[0])"
   ]
  },
  {
   "cell_type": "markdown",
   "id": "e9395f91",
   "metadata": {},
   "source": [
    "We are definitely losing data by cropping images with ratios this low. Out of curiosity, let's see where most of these images are."
   ]
  },
  {
   "cell_type": "code",
   "execution_count": null,
   "id": "f891f1e9",
   "metadata": {
    "scrolled": true
   },
   "outputs": [],
   "source": [
    "images_df[images_df.ratio <= 0.55].folder.value_counts()"
   ]
  },
  {
   "cell_type": "code",
   "execution_count": null,
   "id": "c4759a3f",
   "metadata": {},
   "outputs": [],
   "source": [
    "images_df[images_df.ratio <= 0.55].label.value_counts()"
   ]
  },
  {
   "cell_type": "markdown",
   "id": "ad57471f",
   "metadata": {},
   "source": [
    "If we see impact during modeling, we may consider dropping images with ratios less than 0.55 from consideration. Most of the images are from our training set of positive cases (which we have a large majority of)."
   ]
  },
  {
   "cell_type": "markdown",
   "id": "74ddb57b",
   "metadata": {},
   "source": [
    "# Image Preprocessing"
   ]
  },
  {
   "cell_type": "markdown",
   "id": "7b09fa65",
   "metadata": {},
   "source": [
    "Now that we have a dataframe of the raw images data, we need to resize, shrink and convert the images to arrays for modeling. We will do that with a helper function applied to the dataframe and input the arrays into a new feature called 'image_array'."
   ]
  },
  {
   "cell_type": "code",
   "execution_count": null,
   "id": "cc4583e4",
   "metadata": {},
   "outputs": [],
   "source": [
    "def create_image_array(df):\n",
    "    # set path for image\n",
    "    path = path = f'./chest_xray/{df.folder}/{df.label}/{df.file_name}'\n",
    "    # open image\n",
    "    image = Image.open(path)\n",
    "    # convert to greyscale\n",
    "    if image.mode == 'RGB':\n",
    "        image = image.convert('L')\n",
    "    # resize and crop the image\n",
    "    image_modified = resize_and_crop(image)\n",
    "    # return the image as a numpy array\n",
    "    return np.asarray(image_modified)\n",
    "\n",
    "images_df['image_array'] = images_df.apply(create_image_array, axis=1)"
   ]
  },
  {
   "cell_type": "markdown",
   "id": "2964fc91",
   "metadata": {
    "ExecuteTime": {
     "end_time": "2022-03-24T18:56:53.554892Z",
     "start_time": "2022-03-24T18:55:45.341151Z"
    }
   },
   "source": [
    "We also need to convert the label to a binary value for our target."
   ]
  },
  {
   "cell_type": "code",
   "execution_count": null,
   "id": "8543da04",
   "metadata": {},
   "outputs": [],
   "source": [
    "def create_target(df):\n",
    "    if df.label == 'PNEUMONIA':\n",
    "        return 1\n",
    "    else:\n",
    "        return 0\n",
    "    \n",
    "images_df['target'] = images_df.apply(create_target, axis=1)"
   ]
  },
  {
   "cell_type": "markdown",
   "id": "d29c890c",
   "metadata": {},
   "source": [
    "Now we can set a dataframe for each of our three datasets (train, test and validation)"
   ]
  },
  {
   "cell_type": "code",
   "execution_count": null,
   "id": "ee09db77",
   "metadata": {},
   "outputs": [],
   "source": [
    "train_df = images_df[images_df.folder == 'train'][['image_array', 'target']]\n",
    "test_df = images_df[images_df.folder == 'test'][['image_array', 'target']]\n",
    "val_df = images_df[images_df.folder == 'val'][['image_array', 'target']]"
   ]
  },
  {
   "cell_type": "markdown",
   "id": "8d1fa959",
   "metadata": {},
   "source": [
    "Then we split the image_array and target apart, save each datasets' X and y, shuffle the data, and check the shape of each array."
   ]
  },
  {
   "cell_type": "code",
   "execution_count": null,
   "id": "935f3b19",
   "metadata": {},
   "outputs": [],
   "source": [
    "X_train = np.array(train_df.image_array.values.tolist())\n",
    "y_train = np.asarray(train_df.target)\n",
    "\n",
    "X_test = np.array(test_df.image_array.values.tolist())\n",
    "y_test = np.asarray(test_df.target)\n",
    "\n",
    "X_val = np.array(val_df.image_array.values.tolist())\n",
    "y_val = np.asarray(val_df.target)\n",
    "\n",
    "# helper function to shuffle data/target in the same way\n",
    "def shuffle_arrays(data, target):\n",
    "    assert len(data) == len(target)\n",
    "    p = np.random.permutation(len(data))\n",
    "    return data[p], target[p]\n",
    "# shuffle all data\n",
    "X_train, y_train = shuffle_arrays(X_train, y_train)\n",
    "X_val, y_val = shuffle_arrays(X_val, y_val)\n",
    "X_test, y_test = shuffle_arrays(X_test, y_test)\n",
    "\n",
    "# verify shapes are accurate\n",
    "print(f\"Train data/target shapes: {X_train.shape}, {y_train.shape}\")\n",
    "print(f\"Test data/target shapes: {X_test.shape}, {y_test.shape}\")\n",
    "print(f\"Val data/target shapes: {X_val.shape}, {y_val.shape}\")"
   ]
  },
  {
   "cell_type": "markdown",
   "id": "e3737a6f",
   "metadata": {},
   "source": [
    "Now we need to reshape the arrays to feed into our models"
   ]
  },
  {
   "cell_type": "code",
   "execution_count": null,
   "id": "442c542d",
   "metadata": {},
   "outputs": [],
   "source": [
    "# set the lengths of each set of data\n",
    "train_len = X_train.shape[0]\n",
    "test_len = X_test.shape[0]\n",
    "val_len = X_val.shape[0]\n",
    "\n",
    "# set the new reshape size for the images\n",
    "img_size = X_train.shape[1] ** 2\n",
    "\n",
    "# reshape all three data groups\n",
    "X_train = X_train.reshape(train_len, img_size).astype('float32')\n",
    "X_test = X_test.reshape(test_len, img_size).astype('float32')\n",
    "X_val = X_val.reshape(val_len, img_size).astype('float32')\n",
    "\n",
    "# verify shapes are accurate\n",
    "print(f\"Train data/target shapes: {X_train.shape}, {y_train.shape}\")\n",
    "print(f\"Test data/target shapes: {X_test.shape}, {y_test.shape}\")\n",
    "print(f\"Val data/target shapes: {X_val.shape}, {y_val.shape}\")"
   ]
  },
  {
   "cell_type": "markdown",
   "id": "96d997b1",
   "metadata": {},
   "source": [
    "We are going to save these arrays so we don't have to perform all this processing when reloading the notebook, we can skip right to loading the data already prepared."
   ]
  },
  {
   "cell_type": "code",
   "execution_count": null,
   "id": "e571d70a",
   "metadata": {},
   "outputs": [],
   "source": [
    "# set the data path\n",
    "data_path = f\"./data/\"\n",
    "# list of variables we are saving\n",
    "datasets = ['X_train', 'y_train', 'X_test', 'y_test', 'X_val', 'y_val']\n",
    "\n",
    "for dataset in datasets:\n",
    "    np.save(file=f'{data_path}{dataset}.npy', arr=globals()[dataset])"
   ]
  },
  {
   "cell_type": "markdown",
   "id": "54fd0fc1",
   "metadata": {},
   "source": [
    "# Loading Data"
   ]
  },
  {
   "cell_type": "code",
   "execution_count": 3,
   "id": "8c76d1e6",
   "metadata": {
    "ExecuteTime": {
     "end_time": "2022-03-28T18:54:08.351667Z",
     "start_time": "2022-03-28T18:54:04.731349Z"
    },
    "run_control": {
     "marked": true
    }
   },
   "outputs": [
    {
     "name": "stdout",
     "output_type": "stream",
     "text": [
      "Train data/target shapes: (5158, 65536), (5158,)\n",
      "Test data/target shapes: (624, 65536), (624,)\n",
      "Val data/target shapes: (16, 65536), (16,)\n"
     ]
    }
   ],
   "source": [
    "# set the data path and get the list of files\n",
    "data_path = f\"./data/\"\n",
    "data_files = list(listdir(data_path))\n",
    "\n",
    "for file in data_files:\n",
    "    # split off the components of the file name\n",
    "    dataset = file[:-4]\n",
    "    # set a global variable for each file with that files name and the data from the file\n",
    "    globals()[f\"{dataset}\"] = np.load(data_path + file)\n",
    "\n",
    "# normalize the data\n",
    "X_train /= 255.\n",
    "X_val /= 255.\n",
    "X_test /= 255.\n",
    "\n",
    "# verify shapes are accurate\n",
    "print(f\"Train data/target shapes: {X_train.shape}, {y_train.shape}\")\n",
    "print(f\"Test data/target shapes: {X_test.shape}, {y_test.shape}\")\n",
    "print(f\"Val data/target shapes: {X_val.shape}, {y_val.shape}\")"
   ]
  },
  {
   "cell_type": "markdown",
   "id": "27e5deca",
   "metadata": {},
   "source": [
    "# Modeling helpers"
   ]
  },
  {
   "cell_type": "markdown",
   "id": "b931fa5f",
   "metadata": {
    "heading_collapsed": true
   },
   "source": [
    "## Global Variables"
   ]
  },
  {
   "cell_type": "code",
   "execution_count": 4,
   "id": "0a6cc62a",
   "metadata": {
    "ExecuteTime": {
     "end_time": "2022-03-28T18:54:32.767547Z",
     "start_time": "2022-03-28T18:54:32.761100Z"
    },
    "hidden": true,
    "run_control": {
     "marked": true
    }
   },
   "outputs": [
    {
     "name": "stdout",
     "output_type": "stream",
     "text": [
      "Training data contains:\n",
      "Total: 5158\n",
      "Negative: 1341 (26.0%)\n",
      "Positive: 3817 (74.0%)\n"
     ]
    }
   ],
   "source": [
    "# setting up training data class imbalance for eventual weighting\n",
    "neg, pos = np.bincount(y_train)\n",
    "total = neg+pos\n",
    "\n",
    "percent_neg = round(neg/total*100, 2)\n",
    "percent_pos = round(pos/total*100, 2)\n",
    "\n",
    "print(f'Training data contains:\\nTotal: {total}\\nNegative: {neg} ({percent_neg}%)\\nPositive: {pos} ({percent_pos}%)')"
   ]
  },
  {
   "cell_type": "code",
   "execution_count": 5,
   "id": "d06fc705",
   "metadata": {
    "ExecuteTime": {
     "end_time": "2022-03-28T18:54:36.552772Z",
     "start_time": "2022-03-28T18:54:36.391862Z"
    },
    "hidden": true,
    "run_control": {
     "marked": true
    }
   },
   "outputs": [],
   "source": [
    "# setting up metrics for model comparison\n",
    "METRICS = [\n",
    "      keras.metrics.TruePositives(name='tp'),\n",
    "      keras.metrics.FalsePositives(name='fp'),\n",
    "      keras.metrics.TrueNegatives(name='tn'),\n",
    "      keras.metrics.FalseNegatives(name='fn'), \n",
    "      keras.metrics.BinaryAccuracy(name='accuracy'), # using binary accuracy\n",
    "      keras.metrics.Precision(name='precision'),\n",
    "      keras.metrics.Recall(name='recall'),\n",
    "      keras.metrics.AUC(name='auc'),\n",
    "      keras.metrics.AUC(name='prc', curve='PR'), # precision-recall curve\n",
    "]"
   ]
  },
  {
   "cell_type": "markdown",
   "id": "345bb102",
   "metadata": {
    "heading_collapsed": true
   },
   "source": [
    "## Helper Functions"
   ]
  },
  {
   "cell_type": "code",
   "execution_count": 6,
   "id": "ccdfc242",
   "metadata": {
    "ExecuteTime": {
     "end_time": "2022-03-28T18:54:42.592109Z",
     "start_time": "2022-03-28T18:54:42.574739Z"
    },
    "hidden": true,
    "run_control": {
     "marked": true
    }
   },
   "outputs": [],
   "source": [
    "def set_x_y():\n",
    "    # get user input for testing dataset\n",
    "    print(\"Choose which testing dataset to use for reporting\")\n",
    "    print(\"Input S for training data\\nInput T for test data\\nInput V for validation data:\")\n",
    "    test_choice = input()\n",
    "    # set the correct global datasets to the local X_test and y_test for reporting\n",
    "    if test_choice.lower() == 's':\n",
    "        X_test, y_test = globals()['X_train'], globals()['y_train']\n",
    "    elif test_choice.lower() == 't':\n",
    "        X_test, y_test = globals()['X_test'], globals()['y_test']\n",
    "    else:\n",
    "        X_test, y_test = globals()['X_val'], globals()['y_val']\n",
    "    # return the test target and label\n",
    "    return X_test, y_test\n",
    "\n",
    "def converted_ypred(model, X_test, threshold=0.5):\n",
    "    # generate predictions\n",
    "    y_pred = model.predict(X_test)\n",
    "    # convert the predictions based on the threshold\n",
    "    # default is: 0.5\n",
    "    converted_ypred = []\n",
    "    for i in range(len(y_pred)):\n",
    "        if y_pred[i][0] > threshold:\n",
    "            converted_ypred.append(1)\n",
    "        else:\n",
    "            converted_ypred.append(0)\n",
    "    # return the converted y_preds as an array\n",
    "    return np.asarray(converted_ypred)\n",
    "\n",
    "def model_report(y_test, y_pred):\n",
    "    # set up labels for classifcation report and confution matrix\n",
    "    report_labels = ['normal', 'pneumonia']\n",
    "    column_labels = ['predicted normal', 'predicted pneumonia']\n",
    "    index_labels = ['actual normal', 'actual pneumonia']\n",
    "    # generate the confusion matrix\n",
    "    cmatrix = confusion_matrix(y_test, y_pred)\n",
    "    # convert into dataframe\n",
    "    cmatrix_df = pd.DataFrame(cmatrix, columns=column_labels, index=index_labels)\n",
    "    print('---------------------------------------------------------------\\n')\n",
    "    # print the classification report\n",
    "    print(classification_report(y_test, y_pred, zero_division=0, target_names=report_labels))\n",
    "    # show report as heatmap   \n",
    "    fig, ax = plt.subplots(figsize=(8,6))\n",
    "    ax = sns.heatmap(data=cmatrix_df, annot=True, cmap='Blues', fmt='g')\n",
    "    locs, labels = plt.xticks()\n",
    "    plt.setp(labels, rotation=0)\n",
    "    plt.show()\n",
    "\n",
    "def plot_metrics(results):\n",
    "    # set the history\n",
    "    history = results.history\n",
    "    # set up metrics to plot\n",
    "    metrics = ['loss', 'accuracy', 'precision', 'recall']\n",
    "    # set up x-axis (number of epochs)\n",
    "    epochs = list(range(1, len(history['loss'])+1))\n",
    "    # generate plot for each of the 4 metrics in a 2x2 plot\n",
    "    plt.figure(figsize=(15,15))\n",
    "    for n, metric in enumerate(metrics):\n",
    "        name = metric.replace(\"_\",\" \").capitalize()\n",
    "        plt.subplot(2,2,n+1)\n",
    "        plt.plot(epochs, history[metric], color=colors[0], label='Train')\n",
    "        plt.plot(epochs, history['val_'+metric], color=colors[1], linestyle=\"--\", label='Val')\n",
    "        plt.xlabel('Epoch')\n",
    "        plt.ylabel(name)\n",
    "        plt.ylim([0,1.1])\n",
    "    plt.legend();    \n",
    "\n",
    "def full_report(model, results):\n",
    "    # set the X_train and y_train\n",
    "    X_train, y_train = globals()['X_train'], globals()['y_train']\n",
    "    # set the testing X and y based on input\n",
    "    X_test, y_test = set_x_y()\n",
    "    # create the y_pred \n",
    "    y_pred = converted_ypred(model, X_test)   \n",
    "    # print the model report and confusion matrix\n",
    "    model_report(y_test, y_pred)\n",
    "    # display the 2x2 plot of metrics  \n",
    "    plot_metrics(results)"
   ]
  },
  {
   "cell_type": "markdown",
   "id": "71f514a4",
   "metadata": {
    "heading_collapsed": true
   },
   "source": [
    "# Baseline - MLP model"
   ]
  },
  {
   "cell_type": "markdown",
   "id": "378d003e",
   "metadata": {
    "hidden": true
   },
   "source": [
    "Inspiration from TensorFlow Tutorial to enact some changes to process and account for imbalanced data. [Source](https://www.tensorflow.org/tutorials/structured_data/imbalanced_data)"
   ]
  },
  {
   "cell_type": "code",
   "execution_count": null,
   "id": "4bd84f0b",
   "metadata": {
    "hidden": true
   },
   "outputs": [],
   "source": [
    "from sklearn.utils import class_weight\n",
    "\n",
    "class_weights = class_weight.compute_class_weight(class_weight='balanced', classes=np.unique(y_train), y=y_train)"
   ]
  },
  {
   "cell_type": "code",
   "execution_count": null,
   "id": "2c66e197",
   "metadata": {
    "hidden": true
   },
   "outputs": [],
   "source": [
    "def make_baseline_model():\n",
    "       \n",
    "    # set up model\n",
    "    model = keras.Sequential()\n",
    "    model.add(Dense(128, activation='relu', input_shape = (X_train.shape[-1],)))\n",
    "    model.add(Dropout(0.5))\n",
    "    model.add(Dense(64, activation='relu'))\n",
    "    model.add(Dropout(0.5))\n",
    "    model.add(Dense(32, activation='relu'))\n",
    "    model.add(Dropout(0.5))\n",
    "    model.add(Dense(1, activation='sigmoid'))\n",
    "    \n",
    "    # compile model\n",
    "    model.compile(loss='binary_crossentropy',\n",
    "                  optimizer='Adam',\n",
    "                  metrics=METRICS)\n",
    "\n",
    "    return model"
   ]
  },
  {
   "cell_type": "code",
   "execution_count": null,
   "id": "dd8e813b",
   "metadata": {
    "hidden": true,
    "scrolled": false
   },
   "outputs": [],
   "source": [
    "baseline_model = make_baseline_model()\n",
    "baseline_model.summary()"
   ]
  },
  {
   "cell_type": "code",
   "execution_count": null,
   "id": "ad7082b0",
   "metadata": {
    "hidden": true,
    "scrolled": true
   },
   "outputs": [],
   "source": [
    "EPOCHS = 5\n",
    "BATCH_SIZE = 30\n",
    "\n",
    "baseline_results = baseline_model.fit(X_train, y_train,\n",
    "                                      batch_size=BATCH_SIZE,\n",
    "                                      epochs=EPOCHS,\n",
    "                                      class_weight=dict(enumerate(class_weights)),\n",
    "                                      validation_data=(X_val, y_val))"
   ]
  },
  {
   "cell_type": "code",
   "execution_count": null,
   "id": "0d58662f",
   "metadata": {
    "hidden": true
   },
   "outputs": [],
   "source": [
    "full_report(baseline_model, baseline_results)"
   ]
  },
  {
   "cell_type": "markdown",
   "id": "596bb4f9",
   "metadata": {
    "hidden": true
   },
   "source": [
    "This doesn't look great. Our model accuracy is at 74% and steady, and the validation is at 50%. Unsurprisingly, these are the percentages of our data that are labeled with pneumonia (74% for training, 50% for validation). "
   ]
  },
  {
   "cell_type": "markdown",
   "id": "0c087ede",
   "metadata": {},
   "source": [
    "# CNN"
   ]
  },
  {
   "cell_type": "markdown",
   "id": "b60aebb3",
   "metadata": {},
   "source": [
    "### Correcting data shape"
   ]
  },
  {
   "cell_type": "code",
   "execution_count": 12,
   "id": "5014f7e0",
   "metadata": {
    "ExecuteTime": {
     "end_time": "2022-03-28T19:01:19.664793Z",
     "start_time": "2022-03-28T19:01:19.646231Z"
    }
   },
   "outputs": [
    {
     "name": "stdout",
     "output_type": "stream",
     "text": [
      "Train data/target shapes: (5158, 256, 256, 1), (5158,)\n",
      "Test data/target shapes: (624, 256, 256, 1), (624,)\n",
      "Val data/target shapes: (16, 256, 256, 1), (16,)\n"
     ]
    }
   ],
   "source": [
    "# set up the X train/test/val for CNNs\n",
    "X_train = X_train.reshape(len(X_train), 256, 256, 1)\n",
    "X_val = X_val.reshape(len(X_val), 256, 256, 1)\n",
    "X_test = X_test.reshape(len(X_test), 256, 256, 1)\n",
    "\n",
    "# verify shapes are accurate\n",
    "print(f\"Train data/target shapes: {X_train.shape}, {y_train.shape}\")\n",
    "print(f\"Test data/target shapes: {X_test.shape}, {y_test.shape}\")\n",
    "print(f\"Val data/target shapes: {X_val.shape}, {y_val.shape}\")"
   ]
  },
  {
   "cell_type": "markdown",
   "id": "8b942fe9",
   "metadata": {},
   "source": [
    "### Callbacks"
   ]
  },
  {
   "cell_type": "code",
   "execution_count": 30,
   "id": "d87efb97",
   "metadata": {
    "ExecuteTime": {
     "end_time": "2022-03-28T20:06:11.913686Z",
     "start_time": "2022-03-28T20:06:11.904261Z"
    }
   },
   "outputs": [],
   "source": [
    "# we are going to employ a patience of 2 for early stopping\n",
    "early_stopping = EarlyStopping(patience=2)"
   ]
  },
  {
   "cell_type": "markdown",
   "id": "36939ec8",
   "metadata": {},
   "source": [
    "### Class Weighting"
   ]
  },
  {
   "cell_type": "code",
   "execution_count": 20,
   "id": "5736321b",
   "metadata": {
    "ExecuteTime": {
     "end_time": "2022-03-28T19:15:44.663225Z",
     "start_time": "2022-03-28T19:15:44.641897Z"
    }
   },
   "outputs": [
    {
     "data": {
      "text/plain": [
       "{0: 1.9231916480238629, 1: 0.675661514278229}"
      ]
     },
     "execution_count": 20,
     "metadata": {},
     "output_type": "execute_result"
    }
   ],
   "source": [
    "classes = list(np.unique(y_train))\n",
    "weights = list(compute_class_weight(class_weight='balanced', classes=np.unique(y_train), y=y_train))\n",
    "class_weights = dict(zip(classes, weights))\n",
    "class_weights"
   ]
  },
  {
   "cell_type": "markdown",
   "id": "d9533652",
   "metadata": {},
   "source": [
    "## CNN model v1"
   ]
  },
  {
   "cell_type": "markdown",
   "id": "89e171b6",
   "metadata": {},
   "source": [
    "For the first CNN model, we will use 3 layers of convolution, starting with 32 filters and doubling each layer.\n",
    "\n",
    "Activations other than output will use relu, output uses sigmoid activation.\n",
    "\n",
    "We will use binary crossentropy as the loss, adam ast he optimizer, and the list of metrics defined in 6.1"
   ]
  },
  {
   "cell_type": "code",
   "execution_count": 33,
   "id": "06a7d2e1",
   "metadata": {
    "ExecuteTime": {
     "end_time": "2022-03-28T20:07:20.119662Z",
     "start_time": "2022-03-28T20:07:19.739247Z"
    }
   },
   "outputs": [
    {
     "name": "stdout",
     "output_type": "stream",
     "text": [
      "Model: \"sequential_8\"\n",
      "_________________________________________________________________\n",
      " Layer (type)                Output Shape              Param #   \n",
      "=================================================================\n",
      " conv2d_32 (Conv2D)          (None, 254, 254, 32)      320       \n",
      "                                                                 \n",
      " max_pooling2d_32 (MaxPoolin  (None, 127, 127, 32)     0         \n",
      " g2D)                                                            \n",
      "                                                                 \n",
      " conv2d_33 (Conv2D)          (None, 125, 125, 64)      18496     \n",
      "                                                                 \n",
      " max_pooling2d_33 (MaxPoolin  (None, 62, 62, 64)       0         \n",
      " g2D)                                                            \n",
      "                                                                 \n",
      " conv2d_34 (Conv2D)          (None, 60, 60, 128)       73856     \n",
      "                                                                 \n",
      " max_pooling2d_34 (MaxPoolin  (None, 30, 30, 128)      0         \n",
      " g2D)                                                            \n",
      "                                                                 \n",
      " flatten_8 (Flatten)         (None, 115200)            0         \n",
      "                                                                 \n",
      " dense_16 (Dense)            (None, 256)               29491456  \n",
      "                                                                 \n",
      " dense_17 (Dense)            (None, 1)                 257       \n",
      "                                                                 \n",
      "=================================================================\n",
      "Total params: 29,584,385\n",
      "Trainable params: 29,584,385\n",
      "Non-trainable params: 0\n",
      "_________________________________________________________________\n"
     ]
    }
   ],
   "source": [
    "def make_cnn_model():\n",
    "    \n",
    "    model = Sequential()\n",
    "    \n",
    "    model.add(Conv2D(32, (3,3), activation='relu', input_shape=(256,256,1)))\n",
    "    model.add(MaxPooling2D((2,2)))\n",
    "    \n",
    "    model.add(Conv2D(64, (3,3), activation='relu'))\n",
    "    model.add(MaxPooling2D((2,2)))\n",
    "    \n",
    "    model.add(Conv2D(128, (3,3), activation='relu'))\n",
    "    model.add(MaxPooling2D((2,2)))\n",
    "    \n",
    "    model.add(Flatten())\n",
    "    \n",
    "    model.add(Dense(256, activation='relu'))\n",
    "    \n",
    "    model.add(Dense(1, activation='sigmoid'))\n",
    "    \n",
    "    model.compile(loss='binary_crossentropy',\n",
    "                  optimizer='adam',\n",
    "                  metrics=METRICS)\n",
    "\n",
    "    return model\n",
    "\n",
    "cnn_model_v1 = make_cnn_model()\n",
    "cnn_model_v1.summary()"
   ]
  },
  {
   "cell_type": "code",
   "execution_count": 34,
   "id": "5a662a0e",
   "metadata": {
    "ExecuteTime": {
     "end_time": "2022-03-28T20:17:06.797144Z",
     "start_time": "2022-03-28T20:07:23.116911Z"
    },
    "scrolled": true
   },
   "outputs": [
    {
     "name": "stdout",
     "output_type": "stream",
     "text": [
      "Epoch 1/10\n",
      "41/41 [==============================] - ETA: 0s - loss: 0.5767 - tp: 3422.0000 - fp: 694.0000 - tn: 655.0000 - fn: 403.0000 - accuracy: 0.7880 - precision: 0.8314 - recall: 0.8946 - auc: 0.7881 - prc: 0.8815WARNING:tensorflow:5 out of the last 9 calls to <function Model.make_test_function.<locals>.test_function at 0x0000023BE4FEB700> triggered tf.function retracing. Tracing is expensive and the excessive number of tracings could be due to (1) creating @tf.function repeatedly in a loop, (2) passing tensors with different shapes, (3) passing Python objects instead of tensors. For (1), please define your @tf.function outside of the loop. For (2), @tf.function has experimental_relax_shapes=True option that relaxes argument shapes that can avoid unnecessary retracing. For (3), please refer to https://www.tensorflow.org/guide/function#controlling_retracing and https://www.tensorflow.org/api_docs/python/tf/function for  more details.\n",
      "41/41 [==============================] - 194s 5s/step - loss: 0.5767 - tp: 3422.0000 - fp: 694.0000 - tn: 655.0000 - fn: 403.0000 - accuracy: 0.7880 - precision: 0.8314 - recall: 0.8946 - auc: 0.7881 - prc: 0.8815 - val_loss: 0.4529 - val_tp: 7.0000 - val_fp: 3.0000 - val_tn: 5.0000 - val_fn: 1.0000 - val_accuracy: 0.7500 - val_precision: 0.7000 - val_recall: 0.8750 - val_auc: 0.9219 - val_prc: 0.9283\n",
      "Epoch 2/10\n",
      "41/41 [==============================] - 192s 5s/step - loss: 0.1655 - tp: 3681.0000 - fp: 183.0000 - tn: 1158.0000 - fn: 136.0000 - accuracy: 0.9382 - precision: 0.9526 - recall: 0.9644 - auc: 0.9771 - prc: 0.9912 - val_loss: 0.4944 - val_tp: 8.0000 - val_fp: 2.0000 - val_tn: 6.0000 - val_fn: 0.0000e+00 - val_accuracy: 0.8750 - val_precision: 0.8000 - val_recall: 1.0000 - val_auc: 0.8750 - val_prc: 0.8723\n",
      "Epoch 3/10\n",
      "41/41 [==============================] - 198s 5s/step - loss: 0.1374 - tp: 3686.0000 - fp: 136.0000 - tn: 1205.0000 - fn: 131.0000 - accuracy: 0.9482 - precision: 0.9644 - recall: 0.9657 - auc: 0.9842 - prc: 0.9938 - val_loss: 0.6554 - val_tp: 7.0000 - val_fp: 3.0000 - val_tn: 5.0000 - val_fn: 1.0000 - val_accuracy: 0.7500 - val_precision: 0.7000 - val_recall: 0.8750 - val_auc: 0.8594 - val_prc: 0.8629\n"
     ]
    }
   ],
   "source": [
    "EPOCHS = 10\n",
    "BATCH_SIZE = 128\n",
    "\n",
    "cnn_model_v1_results = cnn_model_v1.fit(X_train, y_train,\n",
    "                                        batch_size=BATCH_SIZE,\n",
    "                                        epochs=EPOCHS,\n",
    "                                        callbacks=[early_stopping],\n",
    "                                        validation_data=(X_val, y_val))"
   ]
  },
  {
   "cell_type": "code",
   "execution_count": 35,
   "id": "801f3688",
   "metadata": {
    "ExecuteTime": {
     "end_time": "2022-03-28T20:17:21.370984Z",
     "start_time": "2022-03-28T20:17:11.986764Z"
    }
   },
   "outputs": [
    {
     "name": "stdout",
     "output_type": "stream",
     "text": [
      "Choose which testing dataset to use for reporting\n",
      "Input S for training data\n",
      "Input T for test data\n",
      "Input V for validation data:\n",
      "t\n",
      "---------------------------------------------------------------\n",
      "\n",
      "              precision    recall  f1-score   support\n",
      "\n",
      "      normal       0.97      0.31      0.47       234\n",
      "   pneumonia       0.71      0.99      0.83       390\n",
      "\n",
      "    accuracy                           0.74       624\n",
      "   macro avg       0.84      0.65      0.65       624\n",
      "weighted avg       0.81      0.74      0.69       624\n",
      "\n"
     ]
    },
    {
     "data": {
      "image/png": "[encoded data removed]",
      "text/plain": [
       "<Figure size 576x432 with 2 Axes>"
      ]
     },
     "metadata": {
      "needs_background": "light"
     },
     "output_type": "display_data"
    },
    {
     "data": {
      "image/png": "[encoded data removed]",
      "text/plain": [
       "<Figure size 1080x1080 with 4 Axes>"
      ]
     },
     "metadata": {
      "needs_background": "light"
     },
     "output_type": "display_data"
    }
   ],
   "source": [
    "full_report(cnn_model_v1, cnn_model_v1_results)"
   ]
  },
  {
   "cell_type": "markdown",
   "id": "a77d6e71",
   "metadata": {},
   "source": [
    "## CNN model v2"
   ]
  },
  {
   "cell_type": "markdown",
   "id": "c74773b9",
   "metadata": {},
   "source": [
    "Adding another convolution layer with 64 filters"
   ]
  },
  {
   "cell_type": "code",
   "execution_count": 37,
   "id": "56e09c46",
   "metadata": {
    "ExecuteTime": {
     "end_time": "2022-03-28T20:19:41.333999Z",
     "start_time": "2022-03-28T20:19:41.074592Z"
    }
   },
   "outputs": [
    {
     "name": "stdout",
     "output_type": "stream",
     "text": [
      "Model: \"sequential_10\"\n",
      "_________________________________________________________________\n",
      " Layer (type)                Output Shape              Param #   \n",
      "=================================================================\n",
      " conv2d_39 (Conv2D)          (None, 254, 254, 32)      320       \n",
      "                                                                 \n",
      " max_pooling2d_39 (MaxPoolin  (None, 127, 127, 32)     0         \n",
      " g2D)                                                            \n",
      "                                                                 \n",
      " conv2d_40 (Conv2D)          (None, 125, 125, 64)      18496     \n",
      "                                                                 \n",
      " max_pooling2d_40 (MaxPoolin  (None, 62, 62, 64)       0         \n",
      " g2D)                                                            \n",
      "                                                                 \n",
      " conv2d_41 (Conv2D)          (None, 60, 60, 64)        36928     \n",
      "                                                                 \n",
      " max_pooling2d_41 (MaxPoolin  (None, 30, 30, 64)       0         \n",
      " g2D)                                                            \n",
      "                                                                 \n",
      " conv2d_42 (Conv2D)          (None, 28, 28, 128)       73856     \n",
      "                                                                 \n",
      " max_pooling2d_42 (MaxPoolin  (None, 14, 14, 128)      0         \n",
      " g2D)                                                            \n",
      "                                                                 \n",
      " flatten_10 (Flatten)        (None, 25088)             0         \n",
      "                                                                 \n",
      " dense_20 (Dense)            (None, 256)               6422784   \n",
      "                                                                 \n",
      " dense_21 (Dense)            (None, 1)                 257       \n",
      "                                                                 \n",
      "=================================================================\n",
      "Total params: 6,552,641\n",
      "Trainable params: 6,552,641\n",
      "Non-trainable params: 0\n",
      "_________________________________________________________________\n"
     ]
    }
   ],
   "source": [
    "def make_cnn_model():\n",
    "    \n",
    "    model = Sequential()\n",
    "    \n",
    "    model.add(Conv2D(32, (3,3), activation='relu', input_shape=(256,256,1)))\n",
    "    model.add(MaxPooling2D((2,2)))\n",
    "    \n",
    "    model.add(Conv2D(64, (3,3), activation='relu'))\n",
    "    model.add(MaxPooling2D((2,2)))\n",
    "    \n",
    "    model.add(Conv2D(64, (3,3), activation='relu'))\n",
    "    model.add(MaxPooling2D((2,2)))\n",
    "\n",
    "    model.add(Conv2D(128, (3,3), activation='relu'))\n",
    "    model.add(MaxPooling2D((2,2)))    \n",
    "    \n",
    "    model.add(Flatten())\n",
    "    \n",
    "    model.add(Dense(256, activation='relu'))\n",
    "    \n",
    "    model.add(Dense(1, activation='sigmoid'))\n",
    "    \n",
    "    model.compile(loss='binary_crossentropy',\n",
    "                  optimizer='adam',\n",
    "                  metrics=METRICS)\n",
    "\n",
    "    return model\n",
    "\n",
    "cnn_model_v2 = make_cnn_model()\n",
    "cnn_model_v2.summary()"
   ]
  },
  {
   "cell_type": "code",
   "execution_count": 38,
   "id": "e83d1c2b",
   "metadata": {
    "ExecuteTime": {
     "end_time": "2022-03-28T20:35:31.883072Z",
     "start_time": "2022-03-28T20:19:59.744386Z"
    }
   },
   "outputs": [
    {
     "name": "stdout",
     "output_type": "stream",
     "text": [
      "Epoch 1/10\n",
      "41/41 [==============================] - ETA: 0s - loss: 0.4133 - tp: 3710.0000 - fp: 814.0000 - tn: 535.0000 - fn: 115.0000 - accuracy: 0.8204 - precision: 0.8201 - recall: 0.9699 - auc: 0.8276 - prc: 0.9283WARNING:tensorflow:6 out of the last 12 calls to <function Model.make_test_function.<locals>.test_function at 0x0000023C14DD0AF0> triggered tf.function retracing. Tracing is expensive and the excessive number of tracings could be due to (1) creating @tf.function repeatedly in a loop, (2) passing tensors with different shapes, (3) passing Python objects instead of tensors. For (1), please define your @tf.function outside of the loop. For (2), @tf.function has experimental_relax_shapes=True option that relaxes argument shapes that can avoid unnecessary retracing. For (3), please refer to https://www.tensorflow.org/guide/function#controlling_retracing and https://www.tensorflow.org/api_docs/python/tf/function for  more details.\n",
      "41/41 [==============================] - 187s 5s/step - loss: 0.4133 - tp: 3710.0000 - fp: 814.0000 - tn: 535.0000 - fn: 115.0000 - accuracy: 0.8204 - precision: 0.8201 - recall: 0.9699 - auc: 0.8276 - prc: 0.9283 - val_loss: 0.9264 - val_tp: 8.0000 - val_fp: 7.0000 - val_tn: 1.0000 - val_fn: 0.0000e+00 - val_accuracy: 0.5625 - val_precision: 0.5333 - val_recall: 1.0000 - val_auc: 0.9219 - val_prc: 0.9283\n",
      "Epoch 2/10\n",
      "41/41 [==============================] - 188s 5s/step - loss: 0.1635 - tp: 3688.0000 - fp: 197.0000 - tn: 1144.0000 - fn: 129.0000 - accuracy: 0.9368 - precision: 0.9493 - recall: 0.9662 - auc: 0.9783 - prc: 0.9920 - val_loss: 0.9746 - val_tp: 8.0000 - val_fp: 6.0000 - val_tn: 2.0000 - val_fn: 0.0000e+00 - val_accuracy: 0.6250 - val_precision: 0.5714 - val_recall: 1.0000 - val_auc: 0.9062 - val_prc: 0.8392\n",
      "Epoch 3/10\n",
      "41/41 [==============================] - 193s 5s/step - loss: 0.1761 - tp: 3638.0000 - fp: 179.0000 - tn: 1162.0000 - fn: 179.0000 - accuracy: 0.9306 - precision: 0.9531 - recall: 0.9531 - auc: 0.9743 - prc: 0.9901 - val_loss: 0.8007 - val_tp: 8.0000 - val_fp: 4.0000 - val_tn: 4.0000 - val_fn: 0.0000e+00 - val_accuracy: 0.7500 - val_precision: 0.6667 - val_recall: 1.0000 - val_auc: 0.8906 - val_prc: 0.9014\n",
      "Epoch 4/10\n",
      "41/41 [==============================] - 184s 4s/step - loss: 0.1060 - tp: 3713.0000 - fp: 118.0000 - tn: 1223.0000 - fn: 104.0000 - accuracy: 0.9570 - precision: 0.9692 - recall: 0.9728 - auc: 0.9904 - prc: 0.9963 - val_loss: 0.9618 - val_tp: 8.0000 - val_fp: 7.0000 - val_tn: 1.0000 - val_fn: 0.0000e+00 - val_accuracy: 0.5625 - val_precision: 0.5333 - val_recall: 1.0000 - val_auc: 0.9062 - val_prc: 0.9205\n",
      "Epoch 5/10\n",
      "41/41 [==============================] - 180s 4s/step - loss: 0.0958 - tp: 3733.0000 - fp: 94.0000 - tn: 1247.0000 - fn: 84.0000 - accuracy: 0.9655 - precision: 0.9754 - recall: 0.9780 - auc: 0.9919 - prc: 0.9968 - val_loss: 0.9684 - val_tp: 8.0000 - val_fp: 6.0000 - val_tn: 2.0000 - val_fn: 0.0000e+00 - val_accuracy: 0.6250 - val_precision: 0.5714 - val_recall: 1.0000 - val_auc: 0.8281 - val_prc: 0.8604\n"
     ]
    }
   ],
   "source": [
    "EPOCHS = 10\n",
    "BATCH_SIZE = 128\n",
    "\n",
    "cnn_model_v2_results = cnn_model_v2.fit(X_train, y_train,\n",
    "                                        batch_size=BATCH_SIZE,\n",
    "                                        epochs=EPOCHS,\n",
    "                                        callbacks=[early_stopping],\n",
    "                                        validation_data=(X_val, y_val))"
   ]
  },
  {
   "cell_type": "code",
   "execution_count": 39,
   "id": "6385787d",
   "metadata": {
    "ExecuteTime": {
     "end_time": "2022-03-28T20:37:44.340381Z",
     "start_time": "2022-03-28T20:37:35.927006Z"
    }
   },
   "outputs": [
    {
     "name": "stdout",
     "output_type": "stream",
     "text": [
      "Choose which testing dataset to use for reporting\n",
      "Input S for training data\n",
      "Input T for test data\n",
      "Input V for validation data:\n",
      "t\n",
      "---------------------------------------------------------------\n",
      "\n",
      "              precision    recall  f1-score   support\n",
      "\n",
      "      normal       0.97      0.32      0.48       234\n",
      "   pneumonia       0.71      0.99      0.83       390\n",
      "\n",
      "    accuracy                           0.74       624\n",
      "   macro avg       0.84      0.66      0.65       624\n",
      "weighted avg       0.81      0.74      0.70       624\n",
      "\n"
     ]
    },
    {
     "data": {
      "image/png": "[encoded data removed]",
      "text/plain": [
       "<Figure size 576x432 with 2 Axes>"
      ]
     },
     "metadata": {
      "needs_background": "light"
     },
     "output_type": "display_data"
    },
    {
     "data": {
      "image/png": "[encoded data removed]",
      "text/plain": [
       "<Figure size 1080x1080 with 4 Axes>"
      ]
     },
     "metadata": {
      "needs_background": "light"
     },
     "output_type": "display_data"
    }
   ],
   "source": [
    "full_report(cnn_model_v2, cnn_model_v2_results)"
   ]
  },
  {
   "cell_type": "markdown",
   "id": "04255249",
   "metadata": {},
   "source": [
    "## CNN model v3"
   ]
  },
  {
   "cell_type": "markdown",
   "id": "e2bda23d",
   "metadata": {},
   "source": [
    "Increasing the number of nodes after flattening, and adding in class weighting (calculated in 8.0.3)"
   ]
  },
  {
   "cell_type": "code",
   "execution_count": 42,
   "id": "9fa1cbf9",
   "metadata": {
    "ExecuteTime": {
     "end_time": "2022-03-28T20:40:37.927286Z",
     "start_time": "2022-03-28T20:40:37.710039Z"
    }
   },
   "outputs": [
    {
     "name": "stdout",
     "output_type": "stream",
     "text": [
      "Model: \"sequential_11\"\n",
      "_________________________________________________________________\n",
      " Layer (type)                Output Shape              Param #   \n",
      "=================================================================\n",
      " conv2d_43 (Conv2D)          (None, 254, 254, 32)      320       \n",
      "                                                                 \n",
      " max_pooling2d_43 (MaxPoolin  (None, 127, 127, 32)     0         \n",
      " g2D)                                                            \n",
      "                                                                 \n",
      " conv2d_44 (Conv2D)          (None, 125, 125, 64)      18496     \n",
      "                                                                 \n",
      " max_pooling2d_44 (MaxPoolin  (None, 62, 62, 64)       0         \n",
      " g2D)                                                            \n",
      "                                                                 \n",
      " conv2d_45 (Conv2D)          (None, 60, 60, 64)        36928     \n",
      "                                                                 \n",
      " max_pooling2d_45 (MaxPoolin  (None, 30, 30, 64)       0         \n",
      " g2D)                                                            \n",
      "                                                                 \n",
      " conv2d_46 (Conv2D)          (None, 28, 28, 128)       73856     \n",
      "                                                                 \n",
      " max_pooling2d_46 (MaxPoolin  (None, 14, 14, 128)      0         \n",
      " g2D)                                                            \n",
      "                                                                 \n",
      " flatten_11 (Flatten)        (None, 25088)             0         \n",
      "                                                                 \n",
      " dense_22 (Dense)            (None, 512)               12845568  \n",
      "                                                                 \n",
      " dense_23 (Dense)            (None, 1)                 513       \n",
      "                                                                 \n",
      "=================================================================\n",
      "Total params: 12,975,681\n",
      "Trainable params: 12,975,681\n",
      "Non-trainable params: 0\n",
      "_________________________________________________________________\n"
     ]
    }
   ],
   "source": [
    "def make_cnn_model():\n",
    "    \n",
    "    model = Sequential()\n",
    "    \n",
    "    model.add(Conv2D(32, (3,3), activation='relu', input_shape=(256,256,1)))\n",
    "    model.add(MaxPooling2D((2,2)))\n",
    "    \n",
    "    model.add(Conv2D(64, (3,3), activation='relu'))\n",
    "    model.add(MaxPooling2D((2,2)))\n",
    "    \n",
    "    model.add(Conv2D(64, (3,3), activation='relu'))\n",
    "    model.add(MaxPooling2D((2,2)))\n",
    "\n",
    "    model.add(Conv2D(128, (3,3), activation='relu'))\n",
    "    model.add(MaxPooling2D((2,2)))    \n",
    "    \n",
    "    model.add(Flatten())\n",
    "    \n",
    "    model.add(Dense(512, activation='relu'))\n",
    "    \n",
    "    model.add(Dense(1, activation='sigmoid'))\n",
    "    \n",
    "    model.compile(loss='binary_crossentropy',\n",
    "                  optimizer='adam',\n",
    "                  metrics=METRICS)\n",
    "\n",
    "    return model\n",
    "\n",
    "cnn_model_v3 = make_cnn_model()\n",
    "cnn_model_v3.summary()"
   ]
  },
  {
   "cell_type": "code",
   "execution_count": 43,
   "id": "be6ae114",
   "metadata": {
    "ExecuteTime": {
     "end_time": "2022-03-28T20:49:45.544705Z",
     "start_time": "2022-03-28T20:40:43.684664Z"
    }
   },
   "outputs": [
    {
     "name": "stdout",
     "output_type": "stream",
     "text": [
      "Epoch 1/10\n",
      "41/41 [==============================] - 183s 4s/step - loss: 0.4620 - tp: 2650.0000 - fp: 285.0000 - tn: 1064.0000 - fn: 1175.0000 - accuracy: 0.7178 - precision: 0.9029 - recall: 0.6928 - auc: 0.8543 - prc: 0.9410 - val_loss: 0.2603 - val_tp: 6.0000 - val_fp: 1.0000 - val_tn: 7.0000 - val_fn: 2.0000 - val_accuracy: 0.8125 - val_precision: 0.8571 - val_recall: 0.7500 - val_auc: 0.9688 - val_prc: 0.9686\n",
      "Epoch 2/10\n",
      "41/41 [==============================] - 178s 4s/step - loss: 0.2225 - tp: 3446.0000 - fp: 106.0000 - tn: 1235.0000 - fn: 371.0000 - accuracy: 0.9075 - precision: 0.9702 - recall: 0.9028 - auc: 0.9709 - prc: 0.9893 - val_loss: 0.7765 - val_tp: 8.0000 - val_fp: 7.0000 - val_tn: 1.0000 - val_fn: 0.0000e+00 - val_accuracy: 0.5625 - val_precision: 0.5333 - val_recall: 1.0000 - val_auc: 0.9297 - val_prc: 0.9329\n",
      "Epoch 3/10\n",
      "41/41 [==============================] - 181s 4s/step - loss: 0.1427 - tp: 3604.0000 - fp: 71.0000 - tn: 1270.0000 - fn: 213.0000 - accuracy: 0.9449 - precision: 0.9807 - recall: 0.9442 - auc: 0.9872 - prc: 0.9952 - val_loss: 0.4575 - val_tp: 7.0000 - val_fp: 3.0000 - val_tn: 5.0000 - val_fn: 1.0000 - val_accuracy: 0.7500 - val_precision: 0.7000 - val_recall: 0.8750 - val_auc: 0.9062 - val_prc: 0.9155\n"
     ]
    }
   ],
   "source": [
    "EPOCHS = 10\n",
    "BATCH_SIZE = 128\n",
    "\n",
    "cnn_model_v3_results = cnn_model_v3.fit(X_train, y_train,\n",
    "                                        batch_size=BATCH_SIZE,\n",
    "                                        epochs=EPOCHS,\n",
    "                                        callbacks=[early_stopping],\n",
    "                                        class_weight=class_weights,\n",
    "                                        validation_data=(X_val, y_val))"
   ]
  },
  {
   "cell_type": "code",
   "execution_count": 44,
   "id": "d5529bac",
   "metadata": {
    "ExecuteTime": {
     "end_time": "2022-03-28T20:50:35.028312Z",
     "start_time": "2022-03-28T20:50:26.250230Z"
    }
   },
   "outputs": [
    {
     "name": "stdout",
     "output_type": "stream",
     "text": [
      "Choose which testing dataset to use for reporting\n",
      "Input S for training data\n",
      "Input T for test data\n",
      "Input V for validation data:\n",
      "t\n",
      "---------------------------------------------------------------\n",
      "\n",
      "              precision    recall  f1-score   support\n",
      "\n",
      "      normal       0.91      0.37      0.53       234\n",
      "   pneumonia       0.72      0.98      0.83       390\n",
      "\n",
      "    accuracy                           0.75       624\n",
      "   macro avg       0.81      0.67      0.68       624\n",
      "weighted avg       0.79      0.75      0.72       624\n",
      "\n"
     ]
    },
    {
     "data": {
      "image/png": "[encoded data removed]",
      "text/plain": [
       "<Figure size 576x432 with 2 Axes>"
      ]
     },
     "metadata": {
      "needs_background": "light"
     },
     "output_type": "display_data"
    },
    {
     "data": {
      "image/png": "[encoded data removed]",
      "text/plain": [
       "<Figure size 1080x1080 with 4 Axes>"
      ]
     },
     "metadata": {
      "needs_background": "light"
     },
     "output_type": "display_data"
    }
   ],
   "source": [
    "full_report(cnn_model_v3, cnn_model_v3_results)"
   ]
  },
  {
   "cell_type": "markdown",
   "id": "4c8cd0a4",
   "metadata": {},
   "source": [
    "## CNN Model v4"
   ]
  },
  {
   "cell_type": "markdown",
   "id": "6a4cf699",
   "metadata": {
    "ExecuteTime": {
     "end_time": "2022-03-28T20:53:43.800879Z",
     "start_time": "2022-03-28T20:53:43.790463Z"
    }
   },
   "source": [
    "Change the optimizer to RMSProp with a learning rate of 0.01"
   ]
  },
  {
   "cell_type": "code",
   "execution_count": 46,
   "id": "3d2196d4",
   "metadata": {
    "ExecuteTime": {
     "end_time": "2022-03-28T20:54:00.438824Z",
     "start_time": "2022-03-28T20:54:00.159577Z"
    }
   },
   "outputs": [
    {
     "name": "stdout",
     "output_type": "stream",
     "text": [
      "Model: \"sequential_12\"\n",
      "_________________________________________________________________\n",
      " Layer (type)                Output Shape              Param #   \n",
      "=================================================================\n",
      " conv2d_47 (Conv2D)          (None, 254, 254, 32)      320       \n",
      "                                                                 \n",
      " max_pooling2d_47 (MaxPoolin  (None, 127, 127, 32)     0         \n",
      " g2D)                                                            \n",
      "                                                                 \n",
      " conv2d_48 (Conv2D)          (None, 125, 125, 64)      18496     \n",
      "                                                                 \n",
      " max_pooling2d_48 (MaxPoolin  (None, 62, 62, 64)       0         \n",
      " g2D)                                                            \n",
      "                                                                 \n",
      " conv2d_49 (Conv2D)          (None, 60, 60, 64)        36928     \n",
      "                                                                 \n",
      " max_pooling2d_49 (MaxPoolin  (None, 30, 30, 64)       0         \n",
      " g2D)                                                            \n",
      "                                                                 \n",
      " conv2d_50 (Conv2D)          (None, 28, 28, 128)       73856     \n",
      "                                                                 \n",
      " max_pooling2d_50 (MaxPoolin  (None, 14, 14, 128)      0         \n",
      " g2D)                                                            \n",
      "                                                                 \n",
      " flatten_12 (Flatten)        (None, 25088)             0         \n",
      "                                                                 \n",
      " dense_24 (Dense)            (None, 512)               12845568  \n",
      "                                                                 \n",
      " dense_25 (Dense)            (None, 1)                 513       \n",
      "                                                                 \n",
      "=================================================================\n",
      "Total params: 12,975,681\n",
      "Trainable params: 12,975,681\n",
      "Non-trainable params: 0\n",
      "_________________________________________________________________\n"
     ]
    }
   ],
   "source": [
    "def make_cnn_model():\n",
    "    \n",
    "    model = Sequential()\n",
    "    \n",
    "    model.add(Conv2D(32, (3,3), activation='relu', input_shape=(256,256,1)))\n",
    "    model.add(MaxPooling2D((2,2)))\n",
    "    \n",
    "    model.add(Conv2D(64, (3,3), activation='relu'))\n",
    "    model.add(MaxPooling2D((2,2)))\n",
    "    \n",
    "    model.add(Conv2D(64, (3,3), activation='relu'))\n",
    "    model.add(MaxPooling2D((2,2)))\n",
    "\n",
    "    model.add(Conv2D(128, (3,3), activation='relu'))\n",
    "    model.add(MaxPooling2D((2,2)))    \n",
    "    \n",
    "    model.add(Flatten())\n",
    "    \n",
    "    model.add(Dense(512, activation='relu'))\n",
    "    \n",
    "    model.add(Dense(1, activation='sigmoid'))\n",
    "    \n",
    "    model.compile(loss='binary_crossentropy',\n",
    "                  optimizer=keras.optimizers.RMSprop(0.01),\n",
    "                  metrics=METRICS)\n",
    "\n",
    "    return model\n",
    "\n",
    "cnn_model_v4 = make_cnn_model()\n",
    "cnn_model_v4.summary()"
   ]
  },
  {
   "cell_type": "code",
   "execution_count": 47,
   "id": "34be7f78",
   "metadata": {
    "ExecuteTime": {
     "end_time": "2022-03-28T21:06:08.005542Z",
     "start_time": "2022-03-28T20:54:32.475949Z"
    }
   },
   "outputs": [
    {
     "name": "stdout",
     "output_type": "stream",
     "text": [
      "Epoch 1/10\n",
      "41/41 [==============================] - 178s 4s/step - loss: 845.7430 - tp: 2132.0000 - fp: 601.0000 - tn: 748.0000 - fn: 1693.0000 - accuracy: 0.5566 - precision: 0.7801 - recall: 0.5574 - auc: 0.5572 - prc: 0.7575 - val_loss: 0.5104 - val_tp: 4.0000 - val_fp: 0.0000e+00 - val_tn: 8.0000 - val_fn: 4.0000 - val_accuracy: 0.7500 - val_precision: 1.0000 - val_recall: 0.5000 - val_auc: 0.9375 - val_prc: 0.9565\n",
      "Epoch 2/10\n",
      "41/41 [==============================] - 172s 4s/step - loss: 0.5844 - tp: 3140.0000 - fp: 446.0000 - tn: 895.0000 - fn: 677.0000 - accuracy: 0.7823 - precision: 0.8756 - recall: 0.8226 - auc: 0.8000 - prc: 0.8877 - val_loss: 0.3302 - val_tp: 7.0000 - val_fp: 0.0000e+00 - val_tn: 8.0000 - val_fn: 1.0000 - val_accuracy: 0.9375 - val_precision: 1.0000 - val_recall: 0.8750 - val_auc: 0.9766 - val_prc: 0.9793\n",
      "Epoch 3/10\n",
      "41/41 [==============================] - 172s 4s/step - loss: 4.1437 - tp: 2922.0000 - fp: 498.0000 - tn: 843.0000 - fn: 895.0000 - accuracy: 0.7299 - precision: 0.8544 - recall: 0.7655 - auc: 0.7132 - prc: 0.8351 - val_loss: 0.3638 - val_tp: 8.0000 - val_fp: 2.0000 - val_tn: 6.0000 - val_fn: 0.0000e+00 - val_accuracy: 0.8750 - val_precision: 0.8000 - val_recall: 1.0000 - val_auc: 0.9844 - val_prc: 0.9853\n",
      "Epoch 4/10\n",
      "41/41 [==============================] - 173s 4s/step - loss: 0.6729 - tp: 3342.0000 - fp: 497.0000 - tn: 844.0000 - fn: 475.0000 - accuracy: 0.8116 - precision: 0.8705 - recall: 0.8756 - auc: 0.8027 - prc: 0.8829 - val_loss: 0.5831 - val_tp: 8.0000 - val_fp: 1.0000 - val_tn: 7.0000 - val_fn: 0.0000e+00 - val_accuracy: 0.9375 - val_precision: 0.8889 - val_recall: 1.0000 - val_auc: 0.9844 - val_prc: 0.9853\n"
     ]
    }
   ],
   "source": [
    "EPOCHS = 10\n",
    "BATCH_SIZE = 128\n",
    "\n",
    "cnn_model_v4_results = cnn_model_v4.fit(X_train, y_train,\n",
    "                                        batch_size=BATCH_SIZE,\n",
    "                                        epochs=EPOCHS,\n",
    "                                        callbacks=[early_stopping],\n",
    "                                        class_weight=class_weights,\n",
    "                                        validation_data=(X_val, y_val))"
   ]
  },
  {
   "cell_type": "code",
   "execution_count": 48,
   "id": "19187a97",
   "metadata": {
    "ExecuteTime": {
     "end_time": "2022-03-28T21:10:42.875931Z",
     "start_time": "2022-03-28T21:10:34.457160Z"
    }
   },
   "outputs": [
    {
     "name": "stdout",
     "output_type": "stream",
     "text": [
      "Choose which testing dataset to use for reporting\n",
      "Input S for training data\n",
      "Input T for test data\n",
      "Input V for validation data:\n",
      "t\n",
      "---------------------------------------------------------------\n",
      "\n",
      "              precision    recall  f1-score   support\n",
      "\n",
      "      normal       0.79      0.18      0.29       234\n",
      "   pneumonia       0.66      0.97      0.79       390\n",
      "\n",
      "    accuracy                           0.67       624\n",
      "   macro avg       0.73      0.58      0.54       624\n",
      "weighted avg       0.71      0.67      0.60       624\n",
      "\n"
     ]
    },
    {
     "data": {
      "image/png": "[encoded data removed]",
      "text/plain": [
       "<Figure size 576x432 with 2 Axes>"
      ]
     },
     "metadata": {
      "needs_background": "light"
     },
     "output_type": "display_data"
    },
    {
     "data": {
      "image/png": "[encoded data removed]",
      "text/plain": [
       "<Figure size 1080x1080 with 4 Axes>"
      ]
     },
     "metadata": {
      "needs_background": "light"
     },
     "output_type": "display_data"
    }
   ],
   "source": [
    "full_report(cnn_model_v4, cnn_model_v4_results)"
   ]
  },
  {
   "cell_type": "markdown",
   "id": "eeb4a4c7",
   "metadata": {},
   "source": [
    "## CNN model v5"
   ]
  },
  {
   "cell_type": "markdown",
   "id": "f54a6182",
   "metadata": {},
   "source": [
    "Decrease the learning rate by a factor of 10."
   ]
  },
  {
   "cell_type": "code",
   "execution_count": 49,
   "id": "ac8f0b5b",
   "metadata": {
    "ExecuteTime": {
     "end_time": "2022-03-28T21:14:24.531193Z",
     "start_time": "2022-03-28T21:14:24.315929Z"
    }
   },
   "outputs": [
    {
     "name": "stdout",
     "output_type": "stream",
     "text": [
      "Model: \"sequential_13\"\n",
      "_________________________________________________________________\n",
      " Layer (type)                Output Shape              Param #   \n",
      "=================================================================\n",
      " conv2d_51 (Conv2D)          (None, 254, 254, 32)      320       \n",
      "                                                                 \n",
      " max_pooling2d_51 (MaxPoolin  (None, 127, 127, 32)     0         \n",
      " g2D)                                                            \n",
      "                                                                 \n",
      " conv2d_52 (Conv2D)          (None, 125, 125, 64)      18496     \n",
      "                                                                 \n",
      " max_pooling2d_52 (MaxPoolin  (None, 62, 62, 64)       0         \n",
      " g2D)                                                            \n",
      "                                                                 \n",
      " conv2d_53 (Conv2D)          (None, 60, 60, 64)        36928     \n",
      "                                                                 \n",
      " max_pooling2d_53 (MaxPoolin  (None, 30, 30, 64)       0         \n",
      " g2D)                                                            \n",
      "                                                                 \n",
      " conv2d_54 (Conv2D)          (None, 28, 28, 128)       73856     \n",
      "                                                                 \n",
      " max_pooling2d_54 (MaxPoolin  (None, 14, 14, 128)      0         \n",
      " g2D)                                                            \n",
      "                                                                 \n",
      " flatten_13 (Flatten)        (None, 25088)             0         \n",
      "                                                                 \n",
      " dense_26 (Dense)            (None, 512)               12845568  \n",
      "                                                                 \n",
      " dense_27 (Dense)            (None, 1)                 513       \n",
      "                                                                 \n",
      "=================================================================\n",
      "Total params: 12,975,681\n",
      "Trainable params: 12,975,681\n",
      "Non-trainable params: 0\n",
      "_________________________________________________________________\n"
     ]
    }
   ],
   "source": [
    "def make_cnn_model():\n",
    "    \n",
    "    model = Sequential()\n",
    "    \n",
    "    model.add(Conv2D(32, (3,3), activation='relu', input_shape=(256,256,1)))\n",
    "    model.add(MaxPooling2D((2,2)))\n",
    "    \n",
    "    model.add(Conv2D(64, (3,3), activation='relu'))\n",
    "    model.add(MaxPooling2D((2,2)))\n",
    "    \n",
    "    model.add(Conv2D(64, (3,3), activation='relu'))\n",
    "    model.add(MaxPooling2D((2,2)))\n",
    "\n",
    "    model.add(Conv2D(128, (3,3), activation='relu'))\n",
    "    model.add(MaxPooling2D((2,2)))    \n",
    "    \n",
    "    model.add(Flatten())\n",
    "    \n",
    "    model.add(Dense(512, activation='relu'))\n",
    "    \n",
    "    model.add(Dense(1, activation='sigmoid'))\n",
    "    \n",
    "    model.compile(loss='binary_crossentropy',\n",
    "                  optimizer=keras.optimizers.RMSprop(0.001),\n",
    "                  metrics=METRICS)\n",
    "\n",
    "    return model\n",
    "\n",
    "cnn_model_v5 = make_cnn_model()\n",
    "cnn_model_v5.summary()"
   ]
  },
  {
   "cell_type": "code",
   "execution_count": 50,
   "id": "de90c340",
   "metadata": {
    "ExecuteTime": {
     "end_time": "2022-03-28T21:24:06.064484Z",
     "start_time": "2022-03-28T21:14:50.748971Z"
    }
   },
   "outputs": [
    {
     "name": "stdout",
     "output_type": "stream",
     "text": [
      "Epoch 1/10\n",
      "41/41 [==============================] - 190s 5s/step - loss: 0.9368 - tp: 2362.0000 - fp: 393.0000 - tn: 956.0000 - fn: 1463.0000 - accuracy: 0.6413 - precision: 0.8574 - recall: 0.6175 - auc: 0.6881 - prc: 0.8269 - val_loss: 0.3368 - val_tp: 8.0000 - val_fp: 3.0000 - val_tn: 5.0000 - val_fn: 0.0000e+00 - val_accuracy: 0.8125 - val_precision: 0.7273 - val_recall: 1.0000 - val_auc: 0.9531 - val_prc: 0.9643\n",
      "Epoch 2/10\n",
      "41/41 [==============================] - 184s 4s/step - loss: 0.3862 - tp: 3231.0000 - fp: 232.0000 - tn: 1109.0000 - fn: 586.0000 - accuracy: 0.8414 - precision: 0.9330 - recall: 0.8465 - auc: 0.9063 - prc: 0.9550 - val_loss: 0.6684 - val_tp: 3.0000 - val_fp: 0.0000e+00 - val_tn: 8.0000 - val_fn: 5.0000 - val_accuracy: 0.6875 - val_precision: 1.0000 - val_recall: 0.3750 - val_auc: 0.9844 - val_prc: 0.9853\n",
      "Epoch 3/10\n",
      "41/41 [==============================] - 181s 4s/step - loss: 0.2602 - tp: 3416.0000 - fp: 135.0000 - tn: 1206.0000 - fn: 401.0000 - accuracy: 0.8961 - precision: 0.9620 - recall: 0.8949 - auc: 0.9588 - prc: 0.9833 - val_loss: 1.2097 - val_tp: 8.0000 - val_fp: 5.0000 - val_tn: 3.0000 - val_fn: 0.0000e+00 - val_accuracy: 0.6875 - val_precision: 0.6154 - val_recall: 1.0000 - val_auc: 0.8516 - val_prc: 0.8098\n"
     ]
    }
   ],
   "source": [
    "EPOCHS = 10\n",
    "BATCH_SIZE = 128\n",
    "\n",
    "cnn_model_v5_results = cnn_model_v5.fit(X_train, y_train,\n",
    "                                        batch_size=BATCH_SIZE,\n",
    "                                        epochs=EPOCHS,\n",
    "                                        callbacks=[early_stopping],\n",
    "                                        class_weight=class_weights,\n",
    "                                        validation_data=(X_val, y_val))"
   ]
  },
  {
   "cell_type": "code",
   "execution_count": 51,
   "id": "a38d89d9",
   "metadata": {
    "ExecuteTime": {
     "end_time": "2022-03-28T21:34:00.904934Z",
     "start_time": "2022-03-28T21:33:52.248159Z"
    }
   },
   "outputs": [
    {
     "name": "stdout",
     "output_type": "stream",
     "text": [
      "Choose which testing dataset to use for reporting\n",
      "Input S for training data\n",
      "Input T for test data\n",
      "Input V for validation data:\n",
      "t\n",
      "---------------------------------------------------------------\n",
      "\n",
      "              precision    recall  f1-score   support\n",
      "\n",
      "      normal       0.91      0.22      0.36       234\n",
      "   pneumonia       0.68      0.99      0.80       390\n",
      "\n",
      "    accuracy                           0.70       624\n",
      "   macro avg       0.80      0.60      0.58       624\n",
      "weighted avg       0.77      0.70      0.64       624\n",
      "\n"
     ]
    },
    {
     "data": {
      "image/png": "[encoded data removed]",
      "text/plain": [
       "<Figure size 576x432 with 2 Axes>"
      ]
     },
     "metadata": {
      "needs_background": "light"
     },
     "output_type": "display_data"
    },
    {
     "data": {
      "image/png": "[encoded data removed]",
      "text/plain": [
       "<Figure size 1080x1080 with 4 Axes>"
      ]
     },
     "metadata": {
      "needs_background": "light"
     },
     "output_type": "display_data"
    }
   ],
   "source": [
    "full_report(cnn_model_v5, cnn_model_v5_results)"
   ]
  },
  {
   "cell_type": "markdown",
   "id": "a128a6ac",
   "metadata": {},
   "source": [
    "## CNN model v6"
   ]
  },
  {
   "cell_type": "markdown",
   "id": "149aa020",
   "metadata": {},
   "source": [
    "So far our implementational changes have resulted in worse performing models than our second.\n",
    "\n",
    "We are going to go back to that and change the 2nd convolutional layer to 32 from 64. Also, this version will have the class weights added into it, also different than version 2"
   ]
  },
  {
   "cell_type": "code",
   "execution_count": 52,
   "id": "bc413fb6",
   "metadata": {
    "ExecuteTime": {
     "end_time": "2022-03-28T21:36:21.512365Z",
     "start_time": "2022-03-28T21:36:21.347687Z"
    }
   },
   "outputs": [
    {
     "name": "stdout",
     "output_type": "stream",
     "text": [
      "Model: \"sequential_14\"\n",
      "_________________________________________________________________\n",
      " Layer (type)                Output Shape              Param #   \n",
      "=================================================================\n",
      " conv2d_55 (Conv2D)          (None, 254, 254, 32)      320       \n",
      "                                                                 \n",
      " max_pooling2d_55 (MaxPoolin  (None, 127, 127, 32)     0         \n",
      " g2D)                                                            \n",
      "                                                                 \n",
      " conv2d_56 (Conv2D)          (None, 125, 125, 32)      9248      \n",
      "                                                                 \n",
      " max_pooling2d_56 (MaxPoolin  (None, 62, 62, 32)       0         \n",
      " g2D)                                                            \n",
      "                                                                 \n",
      " conv2d_57 (Conv2D)          (None, 60, 60, 64)        18496     \n",
      "                                                                 \n",
      " max_pooling2d_57 (MaxPoolin  (None, 30, 30, 64)       0         \n",
      " g2D)                                                            \n",
      "                                                                 \n",
      " conv2d_58 (Conv2D)          (None, 28, 28, 128)       73856     \n",
      "                                                                 \n",
      " max_pooling2d_58 (MaxPoolin  (None, 14, 14, 128)      0         \n",
      " g2D)                                                            \n",
      "                                                                 \n",
      " flatten_14 (Flatten)        (None, 25088)             0         \n",
      "                                                                 \n",
      " dense_28 (Dense)            (None, 256)               6422784   \n",
      "                                                                 \n",
      " dense_29 (Dense)            (None, 1)                 257       \n",
      "                                                                 \n",
      "=================================================================\n",
      "Total params: 6,524,961\n",
      "Trainable params: 6,524,961\n",
      "Non-trainable params: 0\n",
      "_________________________________________________________________\n"
     ]
    }
   ],
   "source": [
    "def make_cnn_model():\n",
    "    \n",
    "    model = Sequential()\n",
    "    \n",
    "    model.add(Conv2D(32, (3,3), activation='relu', input_shape=(256,256,1)))\n",
    "    model.add(MaxPooling2D((2,2)))\n",
    "    \n",
    "    model.add(Conv2D(32, (3,3), activation='relu'))\n",
    "    model.add(MaxPooling2D((2,2)))\n",
    "    \n",
    "    model.add(Conv2D(64, (3,3), activation='relu'))\n",
    "    model.add(MaxPooling2D((2,2)))\n",
    "    \n",
    "    model.add(Conv2D(128, (3,3), activation='relu'))\n",
    "    model.add(MaxPooling2D((2,2)))\n",
    "    \n",
    "    model.add(Flatten())\n",
    "    \n",
    "    model.add(Dense(256, activation='relu'))\n",
    "    \n",
    "    model.add(Dense(1, activation='sigmoid'))\n",
    "    \n",
    "    model.compile(loss='binary_crossentropy',\n",
    "                  optimizer='adam',\n",
    "                  metrics=METRICS)\n",
    "\n",
    "    return model\n",
    "\n",
    "cnn_model_v6 = make_cnn_model()\n",
    "cnn_model_v6.summary()"
   ]
  },
  {
   "cell_type": "code",
   "execution_count": 53,
   "id": "d8813ad9",
   "metadata": {
    "ExecuteTime": {
     "end_time": "2022-03-28T21:44:29.528414Z",
     "start_time": "2022-03-28T21:36:44.313184Z"
    }
   },
   "outputs": [
    {
     "name": "stdout",
     "output_type": "stream",
     "text": [
      "Epoch 1/10\n",
      "41/41 [==============================] - 147s 4s/step - loss: 0.4714 - tp: 2544.0000 - fp: 222.0000 - tn: 1127.0000 - fn: 1281.0000 - accuracy: 0.7095 - precision: 0.9197 - recall: 0.6651 - auc: 0.8558 - prc: 0.9358 - val_loss: 0.3684 - val_tp: 5.0000 - val_fp: 0.0000e+00 - val_tn: 8.0000 - val_fn: 3.0000 - val_accuracy: 0.8125 - val_precision: 1.0000 - val_recall: 0.6250 - val_auc: 0.9297 - val_prc: 0.9329\n",
      "Epoch 2/10\n",
      "41/41 [==============================] - 157s 4s/step - loss: 0.1843 - tp: 3532.0000 - fp: 88.0000 - tn: 1253.0000 - fn: 285.0000 - accuracy: 0.9277 - precision: 0.9757 - recall: 0.9253 - auc: 0.9792 - prc: 0.9920 - val_loss: 0.5156 - val_tp: 6.0000 - val_fp: 2.0000 - val_tn: 6.0000 - val_fn: 2.0000 - val_accuracy: 0.7500 - val_precision: 0.7500 - val_recall: 0.7500 - val_auc: 0.8750 - val_prc: 0.8723\n",
      "Epoch 3/10\n",
      "41/41 [==============================] - 161s 4s/step - loss: 0.1325 - tp: 3619.0000 - fp: 63.0000 - tn: 1278.0000 - fn: 198.0000 - accuracy: 0.9494 - precision: 0.9829 - recall: 0.9481 - auc: 0.9888 - prc: 0.9958 - val_loss: 0.7067 - val_tp: 8.0000 - val_fp: 5.0000 - val_tn: 3.0000 - val_fn: 0.0000e+00 - val_accuracy: 0.6875 - val_precision: 0.6154 - val_recall: 1.0000 - val_auc: 0.8594 - val_prc: 0.8896\n"
     ]
    }
   ],
   "source": [
    "EPOCHS = 10\n",
    "BATCH_SIZE = 128\n",
    "\n",
    "cnn_model_v6_results = cnn_model_v6.fit(X_train, y_train,\n",
    "                                        batch_size=BATCH_SIZE,\n",
    "                                        epochs=EPOCHS,\n",
    "                                        callbacks=[early_stopping],\n",
    "                                        class_weight=class_weights,\n",
    "                                        validation_data=(X_val, y_val))"
   ]
  },
  {
   "cell_type": "code",
   "execution_count": 54,
   "id": "b0e07686",
   "metadata": {
    "ExecuteTime": {
     "end_time": "2022-03-28T21:45:01.271744Z",
     "start_time": "2022-03-28T21:44:53.829920Z"
    }
   },
   "outputs": [
    {
     "name": "stdout",
     "output_type": "stream",
     "text": [
      "Choose which testing dataset to use for reporting\n",
      "Input S for training data\n",
      "Input T for test data\n",
      "Input V for validation data:\n",
      "t\n",
      "---------------------------------------------------------------\n",
      "\n",
      "              precision    recall  f1-score   support\n",
      "\n",
      "      normal       0.92      0.39      0.55       234\n",
      "   pneumonia       0.73      0.98      0.84       390\n",
      "\n",
      "    accuracy                           0.76       624\n",
      "   macro avg       0.82      0.69      0.69       624\n",
      "weighted avg       0.80      0.76      0.73       624\n",
      "\n"
     ]
    },
    {
     "data": {
      "image/png": "[encoded data removed]",
      "text/plain": [
       "<Figure size 576x432 with 2 Axes>"
      ]
     },
     "metadata": {
      "needs_background": "light"
     },
     "output_type": "display_data"
    },
    {
     "data": {
      "image/png": "[encoded data removed]",
      "text/plain": [
       "<Figure size 1080x1080 with 4 Axes>"
      ]
     },
     "metadata": {
      "needs_background": "light"
     },
     "output_type": "display_data"
    }
   ],
   "source": [
    "full_report(cnn_model_v6, cnn_model_v6_results)"
   ]
  },
  {
   "cell_type": "markdown",
   "id": "947a058f",
   "metadata": {},
   "source": [
    "## CNN model v7"
   ]
  },
  {
   "cell_type": "markdown",
   "id": "3735722e",
   "metadata": {
    "ExecuteTime": {
     "end_time": "2022-03-26T17:22:37.551549Z",
     "start_time": "2022-03-26T17:22:37.538157Z"
    }
   },
   "source": [
    "Version 6 performed the best on non-pneumonia scans, at the expense of a few missed positive images. Lets try and decrease the batch size and see if that helps"
   ]
  },
  {
   "cell_type": "code",
   "execution_count": 55,
   "id": "5d65511e",
   "metadata": {
    "ExecuteTime": {
     "end_time": "2022-03-28T21:46:28.788587Z",
     "start_time": "2022-03-28T21:46:28.627555Z"
    }
   },
   "outputs": [
    {
     "name": "stdout",
     "output_type": "stream",
     "text": [
      "Model: \"sequential_15\"\n",
      "_________________________________________________________________\n",
      " Layer (type)                Output Shape              Param #   \n",
      "=================================================================\n",
      " conv2d_59 (Conv2D)          (None, 254, 254, 32)      320       \n",
      "                                                                 \n",
      " max_pooling2d_59 (MaxPoolin  (None, 127, 127, 32)     0         \n",
      " g2D)                                                            \n",
      "                                                                 \n",
      " conv2d_60 (Conv2D)          (None, 125, 125, 32)      9248      \n",
      "                                                                 \n",
      " max_pooling2d_60 (MaxPoolin  (None, 62, 62, 32)       0         \n",
      " g2D)                                                            \n",
      "                                                                 \n",
      " conv2d_61 (Conv2D)          (None, 60, 60, 64)        18496     \n",
      "                                                                 \n",
      " max_pooling2d_61 (MaxPoolin  (None, 30, 30, 64)       0         \n",
      " g2D)                                                            \n",
      "                                                                 \n",
      " conv2d_62 (Conv2D)          (None, 28, 28, 128)       73856     \n",
      "                                                                 \n",
      " max_pooling2d_62 (MaxPoolin  (None, 14, 14, 128)      0         \n",
      " g2D)                                                            \n",
      "                                                                 \n",
      " flatten_15 (Flatten)        (None, 25088)             0         \n",
      "                                                                 \n",
      " dense_30 (Dense)            (None, 256)               6422784   \n",
      "                                                                 \n",
      " dense_31 (Dense)            (None, 1)                 257       \n",
      "                                                                 \n",
      "=================================================================\n",
      "Total params: 6,524,961\n",
      "Trainable params: 6,524,961\n",
      "Non-trainable params: 0\n",
      "_________________________________________________________________\n"
     ]
    }
   ],
   "source": [
    "def make_cnn_model():\n",
    "    \n",
    "    model = Sequential()\n",
    "    \n",
    "    model.add(Conv2D(32, (3,3), activation='relu', input_shape=(256,256,1)))\n",
    "    model.add(MaxPooling2D((2,2)))\n",
    "    \n",
    "    model.add(Conv2D(32, (3,3), activation='relu'))\n",
    "    model.add(MaxPooling2D((2,2)))\n",
    "    \n",
    "    model.add(Conv2D(64, (3,3), activation='relu'))\n",
    "    model.add(MaxPooling2D((2,2)))\n",
    "    \n",
    "    model.add(Conv2D(128, (3,3), activation='relu'))\n",
    "    model.add(MaxPooling2D((2,2)))\n",
    "    \n",
    "    model.add(Flatten())\n",
    "    \n",
    "    model.add(Dense(256, activation='relu'))\n",
    "    \n",
    "    model.add(Dense(1, activation='sigmoid'))\n",
    "    \n",
    "    model.compile(loss='binary_crossentropy',\n",
    "                  optimizer='adam',\n",
    "                  metrics=METRICS)\n",
    "\n",
    "    return model\n",
    "\n",
    "cnn_model_v7 = make_cnn_model()\n",
    "cnn_model_v7.summary()"
   ]
  },
  {
   "cell_type": "code",
   "execution_count": 56,
   "id": "8ccdc1ea",
   "metadata": {
    "ExecuteTime": {
     "end_time": "2022-03-28T21:54:17.549000Z",
     "start_time": "2022-03-28T21:46:51.948066Z"
    }
   },
   "outputs": [
    {
     "name": "stdout",
     "output_type": "stream",
     "text": [
      "Epoch 1/10\n",
      "81/81 [==============================] - 150s 2s/step - loss: 0.3173 - tp: 3195.0000 - fp: 186.0000 - tn: 1163.0000 - fn: 630.0000 - accuracy: 0.8423 - precision: 0.9450 - recall: 0.8353 - auc: 0.9361 - prc: 0.9754 - val_loss: 0.2562 - val_tp: 7.0000 - val_fp: 1.0000 - val_tn: 7.0000 - val_fn: 1.0000 - val_accuracy: 0.8750 - val_precision: 0.8750 - val_recall: 0.8750 - val_auc: 0.9688 - val_prc: 0.9686\n",
      "Epoch 2/10\n",
      "81/81 [==============================] - 153s 2s/step - loss: 0.1610 - tp: 3588.0000 - fp: 80.0000 - tn: 1261.0000 - fn: 229.0000 - accuracy: 0.9401 - precision: 0.9782 - recall: 0.9400 - auc: 0.9833 - prc: 0.9931 - val_loss: 0.5571 - val_tp: 8.0000 - val_fp: 4.0000 - val_tn: 4.0000 - val_fn: 0.0000e+00 - val_accuracy: 0.7500 - val_precision: 0.6667 - val_recall: 1.0000 - val_auc: 0.9062 - val_prc: 0.9270\n",
      "Epoch 3/10\n",
      "81/81 [==============================] - 143s 2s/step - loss: 0.1167 - tp: 3667.0000 - fp: 54.0000 - tn: 1287.0000 - fn: 150.0000 - accuracy: 0.9604 - precision: 0.9855 - recall: 0.9607 - auc: 0.9910 - prc: 0.9967 - val_loss: 0.9088 - val_tp: 8.0000 - val_fp: 4.0000 - val_tn: 4.0000 - val_fn: 0.0000e+00 - val_accuracy: 0.7500 - val_precision: 0.6667 - val_recall: 1.0000 - val_auc: 0.8281 - val_prc: 0.7279\n"
     ]
    }
   ],
   "source": [
    "EPOCHS = 10\n",
    "BATCH_SIZE = 64\n",
    "\n",
    "cnn_model_v7_results = cnn_model_v7.fit(X_train, y_train,\n",
    "                                        batch_size=BATCH_SIZE,\n",
    "                                        epochs=EPOCHS,\n",
    "                                        callbacks=[early_stopping],\n",
    "                                        class_weight=class_weights,\n",
    "                                        validation_data=(X_val, y_val))"
   ]
  },
  {
   "cell_type": "code",
   "execution_count": 57,
   "id": "2200ea13",
   "metadata": {
    "ExecuteTime": {
     "end_time": "2022-03-28T22:01:31.581727Z",
     "start_time": "2022-03-28T22:01:24.828020Z"
    }
   },
   "outputs": [
    {
     "name": "stdout",
     "output_type": "stream",
     "text": [
      "Choose which testing dataset to use for reporting\n",
      "Input S for training data\n",
      "Input T for test data\n",
      "Input V for validation data:\n",
      "t\n",
      "---------------------------------------------------------------\n",
      "\n",
      "              precision    recall  f1-score   support\n",
      "\n",
      "      normal       0.99      0.29      0.44       234\n",
      "   pneumonia       0.70      1.00      0.82       390\n",
      "\n",
      "    accuracy                           0.73       624\n",
      "   macro avg       0.84      0.64      0.63       624\n",
      "weighted avg       0.81      0.73      0.68       624\n",
      "\n"
     ]
    },
    {
     "data": {
      "image/png": "[encoded data removed]",
      "text/plain": [
       "<Figure size 576x432 with 2 Axes>"
      ]
     },
     "metadata": {
      "needs_background": "light"
     },
     "output_type": "display_data"
    },
    {
     "data": {
      "image/png": "[encoded data removed]",
      "text/plain": [
       "<Figure size 1080x1080 with 4 Axes>"
      ]
     },
     "metadata": {
      "needs_background": "light"
     },
     "output_type": "display_data"
    }
   ],
   "source": [
    "full_report(cnn_model_v7, cnn_model_v7_results)"
   ]
  },
  {
   "cell_type": "markdown",
   "id": "d01332c4",
   "metadata": {},
   "source": [
    "## CNN model v8\n"
   ]
  },
  {
   "cell_type": "markdown",
   "id": "cd236f9e",
   "metadata": {
    "ExecuteTime": {
     "end_time": "2022-03-28T22:02:12.693726Z",
     "start_time": "2022-03-28T22:02:12.687775Z"
    }
   },
   "source": [
    "Same thing but lets increase batch size to see the difference"
   ]
  },
  {
   "cell_type": "code",
   "execution_count": 60,
   "id": "53f11cbb",
   "metadata": {
    "ExecuteTime": {
     "end_time": "2022-03-28T22:04:02.076197Z",
     "start_time": "2022-03-28T22:04:01.901606Z"
    }
   },
   "outputs": [
    {
     "name": "stdout",
     "output_type": "stream",
     "text": [
      "Model: \"sequential_17\"\n",
      "_________________________________________________________________\n",
      " Layer (type)                Output Shape              Param #   \n",
      "=================================================================\n",
      " conv2d_67 (Conv2D)          (None, 254, 254, 32)      320       \n",
      "                                                                 \n",
      " max_pooling2d_67 (MaxPoolin  (None, 127, 127, 32)     0         \n",
      " g2D)                                                            \n",
      "                                                                 \n",
      " conv2d_68 (Conv2D)          (None, 125, 125, 32)      9248      \n",
      "                                                                 \n",
      " max_pooling2d_68 (MaxPoolin  (None, 62, 62, 32)       0         \n",
      " g2D)                                                            \n",
      "                                                                 \n",
      " conv2d_69 (Conv2D)          (None, 60, 60, 64)        18496     \n",
      "                                                                 \n",
      " max_pooling2d_69 (MaxPoolin  (None, 30, 30, 64)       0         \n",
      " g2D)                                                            \n",
      "                                                                 \n",
      " conv2d_70 (Conv2D)          (None, 28, 28, 128)       73856     \n",
      "                                                                 \n",
      " max_pooling2d_70 (MaxPoolin  (None, 14, 14, 128)      0         \n",
      " g2D)                                                            \n",
      "                                                                 \n",
      " flatten_17 (Flatten)        (None, 25088)             0         \n",
      "                                                                 \n",
      " dense_34 (Dense)            (None, 256)               6422784   \n",
      "                                                                 \n",
      " dense_35 (Dense)            (None, 1)                 257       \n",
      "                                                                 \n",
      "=================================================================\n",
      "Total params: 6,524,961\n",
      "Trainable params: 6,524,961\n",
      "Non-trainable params: 0\n",
      "_________________________________________________________________\n"
     ]
    }
   ],
   "source": [
    "def make_cnn_model():\n",
    "    \n",
    "    model = Sequential()\n",
    "    \n",
    "    model.add(Conv2D(32, (3,3), activation='relu', input_shape=(256,256,1)))\n",
    "    model.add(MaxPooling2D((2,2)))\n",
    "    \n",
    "    model.add(Conv2D(32, (3,3), activation='relu'))\n",
    "    model.add(MaxPooling2D((2,2)))\n",
    "    \n",
    "    model.add(Conv2D(64, (3,3), activation='relu'))\n",
    "    model.add(MaxPooling2D((2,2)))\n",
    "    \n",
    "    model.add(Conv2D(128, (3,3), activation='relu'))\n",
    "    model.add(MaxPooling2D((2,2)))\n",
    "    \n",
    "    model.add(Flatten())\n",
    "    \n",
    "    model.add(Dense(256, activation='relu'))\n",
    "    \n",
    "    model.add(Dense(1, activation='sigmoid'))\n",
    "    \n",
    "    model.compile(loss='binary_crossentropy',\n",
    "                  optimizer='adam',\n",
    "                  metrics=METRICS)\n",
    "\n",
    "    return model\n",
    "\n",
    "cnn_model_v8 = make_cnn_model()\n",
    "cnn_model_v8.summary()"
   ]
  },
  {
   "cell_type": "code",
   "execution_count": 61,
   "id": "ea4ad2e5",
   "metadata": {
    "ExecuteTime": {
     "end_time": "2022-03-28T22:21:17.049553Z",
     "start_time": "2022-03-28T22:04:04.823637Z"
    }
   },
   "outputs": [
    {
     "name": "stdout",
     "output_type": "stream",
     "text": [
      "Epoch 1/10\n",
      "21/21 [==============================] - 150s 7s/step - loss: 0.6447 - tp: 2039.0000 - fp: 396.0000 - tn: 953.0000 - fn: 1786.0000 - accuracy: 0.5783 - precision: 0.8374 - recall: 0.5331 - auc: 0.7028 - prc: 0.8607 - val_loss: 0.5393 - val_tp: 4.0000 - val_fp: 0.0000e+00 - val_tn: 8.0000 - val_fn: 4.0000 - val_accuracy: 0.7500 - val_precision: 1.0000 - val_recall: 0.5000 - val_auc: 0.9688 - val_prc: 0.9686\n",
      "Epoch 2/10\n",
      "21/21 [==============================] - 147s 7s/step - loss: 0.2702 - tp: 3370.0000 - fp: 133.0000 - tn: 1208.0000 - fn: 447.0000 - accuracy: 0.8876 - precision: 0.9620 - recall: 0.8829 - auc: 0.9584 - prc: 0.9845 - val_loss: 0.3935 - val_tp: 8.0000 - val_fp: 2.0000 - val_tn: 6.0000 - val_fn: 0.0000e+00 - val_accuracy: 0.8750 - val_precision: 0.8000 - val_recall: 1.0000 - val_auc: 0.9375 - val_prc: 0.9377\n",
      "Epoch 3/10\n",
      "21/21 [==============================] - 146s 7s/step - loss: 0.1690 - tp: 3561.0000 - fp: 83.0000 - tn: 1258.0000 - fn: 256.0000 - accuracy: 0.9343 - precision: 0.9772 - recall: 0.9329 - auc: 0.9818 - prc: 0.9934 - val_loss: 0.3826 - val_tp: 5.0000 - val_fp: 1.0000 - val_tn: 7.0000 - val_fn: 3.0000 - val_accuracy: 0.7500 - val_precision: 0.8333 - val_recall: 0.6250 - val_auc: 0.9219 - val_prc: 0.9283\n",
      "Epoch 4/10\n",
      "21/21 [==============================] - 148s 7s/step - loss: 0.1327 - tp: 3615.0000 - fp: 58.0000 - tn: 1283.0000 - fn: 202.0000 - accuracy: 0.9496 - precision: 0.9842 - recall: 0.9471 - auc: 0.9885 - prc: 0.9958 - val_loss: 1.2704 - val_tp: 8.0000 - val_fp: 7.0000 - val_tn: 1.0000 - val_fn: 0.0000e+00 - val_accuracy: 0.5625 - val_precision: 0.5333 - val_recall: 1.0000 - val_auc: 0.8594 - val_prc: 0.8041\n",
      "Epoch 5/10\n",
      "21/21 [==============================] - 147s 7s/step - loss: 0.1422 - tp: 3619.0000 - fp: 69.0000 - tn: 1272.0000 - fn: 198.0000 - accuracy: 0.9482 - precision: 0.9813 - recall: 0.9481 - auc: 0.9870 - prc: 0.9952 - val_loss: 0.3519 - val_tp: 6.0000 - val_fp: 1.0000 - val_tn: 7.0000 - val_fn: 2.0000 - val_accuracy: 0.8125 - val_precision: 0.8571 - val_recall: 0.7500 - val_auc: 0.9219 - val_prc: 0.9249\n",
      "Epoch 6/10\n",
      "21/21 [==============================] - 147s 7s/step - loss: 0.1050 - tp: 3655.0000 - fp: 46.0000 - tn: 1295.0000 - fn: 162.0000 - accuracy: 0.9597 - precision: 0.9876 - recall: 0.9576 - auc: 0.9926 - prc: 0.9973 - val_loss: 0.6150 - val_tp: 8.0000 - val_fp: 4.0000 - val_tn: 4.0000 - val_fn: 0.0000e+00 - val_accuracy: 0.7500 - val_precision: 0.6667 - val_recall: 1.0000 - val_auc: 0.9062 - val_prc: 0.9155\n",
      "Epoch 7/10\n",
      "21/21 [==============================] - 146s 7s/step - loss: 0.1018 - tp: 3675.0000 - fp: 49.0000 - tn: 1292.0000 - fn: 142.0000 - accuracy: 0.9630 - precision: 0.9868 - recall: 0.9628 - auc: 0.9931 - prc: 0.9974 - val_loss: 0.3890 - val_tp: 5.0000 - val_fp: 1.0000 - val_tn: 7.0000 - val_fn: 3.0000 - val_accuracy: 0.7500 - val_precision: 0.8333 - val_recall: 0.6250 - val_auc: 0.9219 - val_prc: 0.9283\n"
     ]
    }
   ],
   "source": [
    "EPOCHS = 10\n",
    "BATCH_SIZE = 256\n",
    "\n",
    "cnn_model_v8_results = cnn_model_v8.fit(X_train, y_train,\n",
    "                                        batch_size=BATCH_SIZE,\n",
    "                                        epochs=EPOCHS,\n",
    "                                        callbacks=[early_stopping],\n",
    "                                        class_weight=class_weights,\n",
    "                                        validation_data=(X_val, y_val))"
   ]
  },
  {
   "cell_type": "code",
   "execution_count": 62,
   "id": "d607390e",
   "metadata": {
    "ExecuteTime": {
     "end_time": "2022-03-28T22:30:48.892719Z",
     "start_time": "2022-03-28T22:30:42.610906Z"
    }
   },
   "outputs": [
    {
     "name": "stdout",
     "output_type": "stream",
     "text": [
      "Choose which testing dataset to use for reporting\n",
      "Input S for training data\n",
      "Input T for test data\n",
      "Input V for validation data:\n",
      "t\n",
      "---------------------------------------------------------------\n",
      "\n",
      "              precision    recall  f1-score   support\n",
      "\n",
      "      normal       0.86      0.60      0.71       234\n",
      "   pneumonia       0.80      0.94      0.86       390\n",
      "\n",
      "    accuracy                           0.81       624\n",
      "   macro avg       0.83      0.77      0.79       624\n",
      "weighted avg       0.82      0.81      0.81       624\n",
      "\n"
     ]
    },
    {
     "data": {
      "image/png": "[encoded data removed]",
      "text/plain": [
       "<Figure size 576x432 with 2 Axes>"
      ]
     },
     "metadata": {
      "needs_background": "light"
     },
     "output_type": "display_data"
    },
    {
     "data": {
      "image/png": "[encoded data removed]",
      "text/plain": [
       "<Figure size 1080x1080 with 4 Axes>"
      ]
     },
     "metadata": {
      "needs_background": "light"
     },
     "output_type": "display_data"
    }
   ],
   "source": [
    "full_report(cnn_model_v8, cnn_model_v8_results)"
   ]
  },
  {
   "cell_type": "markdown",
   "id": "cd5bf578",
   "metadata": {},
   "source": [
    "## CNN model v9"
   ]
  },
  {
   "cell_type": "markdown",
   "id": "bc167256",
   "metadata": {},
   "source": [
    "Version 8 was the best one yet! Increase in total accuracy to 81%. It does come with a cost of increasing type II errors."
   ]
  },
  {
   "cell_type": "code",
   "execution_count": null,
   "id": "d9c01ec8",
   "metadata": {},
   "outputs": [],
   "source": [
    "def make_cnn_model():\n",
    "    \n",
    "    model = Sequential()\n",
    "    \n",
    "    model.add(Conv2D(32, (3,3), activation='relu', input_shape=(256,256,1)))\n",
    "    model.add(MaxPooling2D((2,2)))\n",
    "    \n",
    "    model.add(Conv2D(32, (3,3), activation='relu'))\n",
    "    model.add(MaxPooling2D((2,2)))\n",
    "    \n",
    "    model.add(Conv2D(64, (3,3), activation='relu'))\n",
    "    model.add(MaxPooling2D((2,2)))\n",
    "    \n",
    "    model.add(Conv2D(128, (3,3), activation='relu'))\n",
    "    model.add(MaxPooling2D((2,2)))\n",
    "    \n",
    "    model.add(Flatten())\n",
    "    \n",
    "    model.add(Dense(256, activation='relu'))\n",
    "    \n",
    "    model.add(Dense(1, activation='sigmoid'))\n",
    "    \n",
    "    model.compile(loss='binary_crossentropy',\n",
    "                  optimizer='adam',\n",
    "                  metrics=METRICS)\n",
    "\n",
    "    return model\n",
    "\n",
    "cnn_model_v8 = make_cnn_model()\n",
    "cnn_model_v8.summary()"
   ]
  },
  {
   "cell_type": "markdown",
   "id": "897913d0",
   "metadata": {},
   "source": [
    "# Xception"
   ]
  },
  {
   "cell_type": "markdown",
   "id": "c203021e",
   "metadata": {},
   "source": [
    "### Setting up data"
   ]
  },
  {
   "cell_type": "markdown",
   "id": "47f7785d",
   "metadata": {},
   "source": [
    "The Xception pretrained model requires that our images be (299, 299, 3)"
   ]
  },
  {
   "cell_type": "code",
   "execution_count": 107,
   "id": "b129cf63",
   "metadata": {
    "ExecuteTime": {
     "end_time": "2022-03-28T23:56:52.957629Z",
     "start_time": "2022-03-28T23:54:39.460034Z"
    }
   },
   "outputs": [],
   "source": [
    "folder_names = ['train', 'test', 'val']\n",
    "label_names = ['NORMAL', 'PNEUMONIA']\n",
    "\n",
    "all_images = []\n",
    "\n",
    "# loop through the different combinations of folder name prefixes\n",
    "for folder in folder_names:\n",
    "    for label in label_names:\n",
    "        # set up the path to each folder of images\n",
    "        path = f'./chest_xray/{folder}/{label}'\n",
    "        # create a list of the filenames in that directory\n",
    "        filelist = list(listdir(path))\n",
    "        # loop through each file in the folder\n",
    "        for file_name in filelist:\n",
    "            # set the filepath for the file in question\n",
    "            filepath = path + r'/' + file_name\n",
    "            # open the image\n",
    "            image = Image.open(filepath).convert('RGB')\n",
    "            # drop all images with height lower than 299\n",
    "            if image.height < 299:\n",
    "                continue    \n",
    "            # resize and crop the image to 299x299\n",
    "            new_image = resize_and_crop(image, new_size=299)\n",
    "            # convert the image into an array\n",
    "            image_array = np.asarray(new_image)\n",
    "            # append all the image information to the list of images\n",
    "            all_images.append((folder, label, image_array))\n",
    "\n",
    "# set the column names\n",
    "column_names = ['folder', 'label', 'image_array']\n",
    "# convert the list of images to a dataframe\n",
    "all_images_df = pd.DataFrame(all_images, columns=column_names)"
   ]
  },
  {
   "cell_type": "code",
   "execution_count": 108,
   "id": "6c73e402",
   "metadata": {
    "ExecuteTime": {
     "end_time": "2022-03-28T23:58:30.235297Z",
     "start_time": "2022-03-28T23:58:09.328425Z"
    }
   },
   "outputs": [
    {
     "data": {
      "text/html": [
       "<div>\n",
       "<style scoped>\n",
       "    .dataframe tbody tr th:only-of-type {\n",
       "        vertical-align: middle;\n",
       "    }\n",
       "\n",
       "    .dataframe tbody tr th {\n",
       "        vertical-align: top;\n",
       "    }\n",
       "\n",
       "    .dataframe thead th {\n",
       "        text-align: right;\n",
       "    }\n",
       "</style>\n",
       "<table border=\"1\" class=\"dataframe\">\n",
       "  <thead>\n",
       "    <tr style=\"text-align: right;\">\n",
       "      <th></th>\n",
       "      <th>folder</th>\n",
       "      <th>label</th>\n",
       "      <th>image_array</th>\n",
       "    </tr>\n",
       "  </thead>\n",
       "  <tbody>\n",
       "    <tr>\n",
       "      <th>0</th>\n",
       "      <td>train</td>\n",
       "      <td>NORMAL</td>\n",
       "      <td>[[[81, 81, 81], [86, 86, 86], [89, 89, 89], [9...</td>\n",
       "    </tr>\n",
       "    <tr>\n",
       "      <th>1</th>\n",
       "      <td>train</td>\n",
       "      <td>NORMAL</td>\n",
       "      <td>[[[85, 85, 85], [86, 86, 86], [90, 90, 90], [8...</td>\n",
       "    </tr>\n",
       "    <tr>\n",
       "      <th>2</th>\n",
       "      <td>train</td>\n",
       "      <td>NORMAL</td>\n",
       "      <td>[[[83, 83, 83], [85, 85, 85], [83, 83, 83], [8...</td>\n",
       "    </tr>\n",
       "    <tr>\n",
       "      <th>3</th>\n",
       "      <td>train</td>\n",
       "      <td>NORMAL</td>\n",
       "      <td>[[[106, 106, 106], [103, 103, 103], [109, 109,...</td>\n",
       "    </tr>\n",
       "    <tr>\n",
       "      <th>4</th>\n",
       "      <td>train</td>\n",
       "      <td>NORMAL</td>\n",
       "      <td>[[[25, 25, 25], [22, 22, 22], [20, 20, 20], [1...</td>\n",
       "    </tr>\n",
       "    <tr>\n",
       "      <th>...</th>\n",
       "      <td>...</td>\n",
       "      <td>...</td>\n",
       "      <td>...</td>\n",
       "    </tr>\n",
       "    <tr>\n",
       "      <th>5775</th>\n",
       "      <td>val</td>\n",
       "      <td>PNEUMONIA</td>\n",
       "      <td>[[[133, 133, 133], [130, 130, 130], [126, 126,...</td>\n",
       "    </tr>\n",
       "    <tr>\n",
       "      <th>5776</th>\n",
       "      <td>val</td>\n",
       "      <td>PNEUMONIA</td>\n",
       "      <td>[[[160, 160, 160], [160, 160, 160], [153, 153,...</td>\n",
       "    </tr>\n",
       "    <tr>\n",
       "      <th>5777</th>\n",
       "      <td>val</td>\n",
       "      <td>PNEUMONIA</td>\n",
       "      <td>[[[124, 124, 124], [126, 126, 126], [128, 128,...</td>\n",
       "    </tr>\n",
       "    <tr>\n",
       "      <th>5778</th>\n",
       "      <td>val</td>\n",
       "      <td>PNEUMONIA</td>\n",
       "      <td>[[[227, 227, 227], [55, 55, 55], [64, 64, 64],...</td>\n",
       "    </tr>\n",
       "    <tr>\n",
       "      <th>5779</th>\n",
       "      <td>val</td>\n",
       "      <td>PNEUMONIA</td>\n",
       "      <td>[[[102, 102, 102], [106, 106, 106], [103, 103,...</td>\n",
       "    </tr>\n",
       "  </tbody>\n",
       "</table>\n",
       "<p>5780 rows × 3 columns</p>\n",
       "</div>"
      ],
      "text/plain": [
       "     folder      label                                        image_array\n",
       "0     train     NORMAL  [[[81, 81, 81], [86, 86, 86], [89, 89, 89], [9...\n",
       "1     train     NORMAL  [[[85, 85, 85], [86, 86, 86], [90, 90, 90], [8...\n",
       "2     train     NORMAL  [[[83, 83, 83], [85, 85, 85], [83, 83, 83], [8...\n",
       "3     train     NORMAL  [[[106, 106, 106], [103, 103, 103], [109, 109,...\n",
       "4     train     NORMAL  [[[25, 25, 25], [22, 22, 22], [20, 20, 20], [1...\n",
       "...     ...        ...                                                ...\n",
       "5775    val  PNEUMONIA  [[[133, 133, 133], [130, 130, 130], [126, 126,...\n",
       "5776    val  PNEUMONIA  [[[160, 160, 160], [160, 160, 160], [153, 153,...\n",
       "5777    val  PNEUMONIA  [[[124, 124, 124], [126, 126, 126], [128, 128,...\n",
       "5778    val  PNEUMONIA  [[[227, 227, 227], [55, 55, 55], [64, 64, 64],...\n",
       "5779    val  PNEUMONIA  [[[102, 102, 102], [106, 106, 106], [103, 103,...\n",
       "\n",
       "[5780 rows x 3 columns]"
      ]
     },
     "execution_count": 108,
     "metadata": {},
     "output_type": "execute_result"
    }
   ],
   "source": [
    "all_images_df"
   ]
  },
  {
   "cell_type": "code",
   "execution_count": 109,
   "id": "7ead9bca",
   "metadata": {
    "ExecuteTime": {
     "end_time": "2022-03-28T23:58:55.697739Z",
     "start_time": "2022-03-28T23:58:55.685341Z"
    }
   },
   "outputs": [
    {
     "data": {
      "text/plain": [
       "(299, 299, 3)"
      ]
     },
     "execution_count": 109,
     "metadata": {},
     "output_type": "execute_result"
    }
   ],
   "source": [
    "all_images_df.iloc[0]['image_array'].shape"
   ]
  },
  {
   "cell_type": "code",
   "execution_count": null,
   "id": "e18191eb",
   "metadata": {},
   "outputs": [],
   "source": []
  },
  {
   "cell_type": "code",
   "execution_count": null,
   "id": "de947328",
   "metadata": {},
   "outputs": [],
   "source": []
  },
  {
   "cell_type": "code",
   "execution_count": null,
   "id": "1addf674",
   "metadata": {},
   "outputs": [],
   "source": []
  },
  {
   "cell_type": "code",
   "execution_count": null,
   "id": "25ada0a0",
   "metadata": {},
   "outputs": [],
   "source": []
  },
  {
   "cell_type": "code",
   "execution_count": null,
   "id": "bf75dd7b",
   "metadata": {},
   "outputs": [],
   "source": []
  },
  {
   "cell_type": "code",
   "execution_count": 76,
   "id": "1fa3e069",
   "metadata": {
    "ExecuteTime": {
     "end_time": "2022-03-28T22:53:05.341870Z",
     "start_time": "2022-03-28T22:53:04.887479Z"
    }
   },
   "outputs": [
    {
     "name": "stdout",
     "output_type": "stream",
     "text": [
      "Train data/target shapes: (5158, 256, 256, 1), (5158,)\n",
      "Test data/target shapes: (624, 256, 256, 1), (624,)\n",
      "Val data/target shapes: (16, 256, 256, 1), (16,)\n"
     ]
    }
   ],
   "source": [
    "X_groups = ['X_train', 'X_val', 'X_test']\n",
    "\n",
    "for data in X_groups:\n",
    "    new_var = f\"{data}_xc\"\n",
    "    globals()[new_var] = keras.applications.xception.preprocess_input(globals()[data])\n",
    "    \n",
    "# verify shapes are accurate\n",
    "print(f\"Train data/target shapes: {X_train_xc.shape}, {y_train.shape}\")\n",
    "print(f\"Test data/target shapes: {X_test_xc.shape}, {y_test.shape}\")\n",
    "print(f\"Val data/target shapes: {X_val_xc.shape}, {y_val.shape}\")"
   ]
  },
  {
   "cell_type": "code",
   "execution_count": 83,
   "id": "1f8e153f",
   "metadata": {
    "ExecuteTime": {
     "end_time": "2022-03-28T22:59:36.034115Z",
     "start_time": "2022-03-28T22:59:36.022188Z"
    }
   },
   "outputs": [],
   "source": [
    "X_train_xc_test = np.expand_dims(X_train_xc, axis=3)"
   ]
  },
  {
   "cell_type": "code",
   "execution_count": 84,
   "id": "587d2b14",
   "metadata": {
    "ExecuteTime": {
     "end_time": "2022-03-28T22:59:45.094372Z",
     "start_time": "2022-03-28T22:59:45.088422Z"
    }
   },
   "outputs": [
    {
     "data": {
      "text/plain": [
       "(5158, 256, 256, 1, 1)"
      ]
     },
     "execution_count": 84,
     "metadata": {},
     "output_type": "execute_result"
    }
   ],
   "source": [
    "X_train_xc_test.shape"
   ]
  },
  {
   "cell_type": "code",
   "execution_count": null,
   "id": "7d09ad31",
   "metadata": {},
   "outputs": [],
   "source": []
  },
  {
   "cell_type": "code",
   "execution_count": null,
   "id": "5d32de29",
   "metadata": {},
   "outputs": [],
   "source": []
  },
  {
   "cell_type": "markdown",
   "id": "44c3849e",
   "metadata": {
    "heading_collapsed": true
   },
   "source": [
    "## Xception model v1"
   ]
  },
  {
   "cell_type": "code",
   "execution_count": 81,
   "id": "5d34b7f5",
   "metadata": {
    "ExecuteTime": {
     "end_time": "2022-03-28T22:55:32.128496Z",
     "start_time": "2022-03-28T22:55:29.680663Z"
    },
    "hidden": true
   },
   "outputs": [
    {
     "name": "stdout",
     "output_type": "stream",
     "text": [
      "Downloading data from https://storage.googleapis.com/tensorflow/keras-applications/xception/xception_weights_tf_dim_ordering_tf_kernels_notop.h5\n",
      "83689472/83683744 [==============================] - 1s 0us/step\n",
      "83697664/83683744 [==============================] - 1s 0us/step\n"
     ]
    }
   ],
   "source": [
    "xception_model_v1 = keras.applications.Xception(\n",
    "    include_top=False,\n",
    "    weights=\"imagenet\",\n",
    "    input_tensor=None,\n",
    "    input_shape=(256,256,3),\n",
    "    pooling='avg',\n",
    "    classes=2,\n",
    "    classifier_activation=\"softmax\",\n",
    ")"
   ]
  },
  {
   "cell_type": "code",
   "execution_count": 73,
   "id": "27b5167b",
   "metadata": {
    "ExecuteTime": {
     "end_time": "2022-03-28T22:40:14.182555Z",
     "start_time": "2022-03-28T22:40:13.354801Z"
    },
    "hidden": true
   },
   "outputs": [],
   "source": [
    "\n",
    "\n",
    "X_train_xc = keras.applications.xception.preprocess_input(X_train)\n",
    "\n",
    "\n"
   ]
  },
  {
   "cell_type": "code",
   "execution_count": null,
   "id": "56942f72",
   "metadata": {
    "hidden": true
   },
   "outputs": [],
   "source": []
  }
 ],
 "metadata": {
  "kernelspec": {
   "display_name": "Python 3 (ipykernel)",
   "language": "python",
   "name": "python3"
  },
  "language_info": {
   "codemirror_mode": {
    "name": "ipython",
    "version": 3
   },
   "file_extension": ".py",
   "mimetype": "text/x-python",
   "name": "python",
   "nbconvert_exporter": "python",
   "pygments_lexer": "ipython3",
   "version": "3.9.7"
  },
  "toc": {
   "base_numbering": 1,
   "nav_menu": {},
   "number_sections": true,
   "sideBar": true,
   "skip_h1_title": false,
   "title_cell": "Table of Contents",
   "title_sidebar": "Contents",
   "toc_cell": false,
   "toc_position": {
    "height": "calc(100% - 180px)",
    "left": "10px",
    "top": "150px",
    "width": "511.984px"
   },
   "toc_section_display": true,
   "toc_window_display": true
  },
  "varInspector": {
   "cols": {
    "lenName": 16,
    "lenType": 16,
    "lenVar": 40
   },
   "kernels_config": {
    "python": {
     "delete_cmd_postfix": "",
     "delete_cmd_prefix": "del ",
     "library": "var_list.py",
     "varRefreshCmd": "print(var_dic_list())"
    },
    "r": {
     "delete_cmd_postfix": ") ",
     "delete_cmd_prefix": "rm(",
     "library": "var_list.r",
     "varRefreshCmd": "cat(var_dic_list()) "
    }
   },
   "position": {
    "height": "936.828px",
    "left": "1903px",
    "right": "20px",
    "top": "118px",
    "width": "599px"
   },
   "types_to_exclude": [
    "module",
    "function",
    "builtin_function_or_method",
    "instance",
    "_Feature"
   ],
   "window_display": false
  }
 },
 "nbformat": 4,
 "nbformat_minor": 5
}
